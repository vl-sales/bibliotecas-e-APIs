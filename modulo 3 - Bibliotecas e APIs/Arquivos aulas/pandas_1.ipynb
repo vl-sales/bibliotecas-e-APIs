{
 "cells": [
  {
   "cell_type": "code",
   "execution_count": 160,
   "metadata": {
    "ExecuteTime": {
     "end_time": "2020-12-11T14:15:20.061383Z",
     "start_time": "2020-12-11T14:15:20.057381Z"
    }
   },
   "outputs": [],
   "source": [
    "import numpy as np"
   ]
  },
  {
   "cell_type": "code",
   "execution_count": 2,
   "metadata": {
    "ExecuteTime": {
     "end_time": "2020-12-10T22:33:38.215437Z",
     "start_time": "2020-12-10T22:33:38.211440Z"
    }
   },
   "outputs": [],
   "source": [
    "a = np.arange(10)"
   ]
  },
  {
   "cell_type": "code",
   "execution_count": 4,
   "metadata": {
    "ExecuteTime": {
     "end_time": "2020-12-10T22:33:54.817997Z",
     "start_time": "2020-12-10T22:33:54.810300Z"
    }
   },
   "outputs": [
    {
     "data": {
      "text/plain": [
       "4"
      ]
     },
     "execution_count": 4,
     "metadata": {},
     "output_type": "execute_result"
    }
   ],
   "source": [
    "a.itemsize #traz quantidade de bytes"
   ]
  },
  {
   "cell_type": "code",
   "execution_count": 6,
   "metadata": {
    "ExecuteTime": {
     "end_time": "2020-12-10T22:34:26.570665Z",
     "start_time": "2020-12-10T22:34:26.562666Z"
    }
   },
   "outputs": [
    {
     "data": {
      "text/plain": [
       "10"
      ]
     },
     "execution_count": 6,
     "metadata": {},
     "output_type": "execute_result"
    }
   ],
   "source": [
    "a.size #Traz quantidade de elementos"
   ]
  },
  {
   "cell_type": "code",
   "execution_count": 10,
   "metadata": {
    "ExecuteTime": {
     "end_time": "2020-12-10T22:35:12.221378Z",
     "start_time": "2020-12-10T22:35:12.215385Z"
    }
   },
   "outputs": [
    {
     "data": {
      "text/plain": [
       "40"
      ]
     },
     "execution_count": 10,
     "metadata": {},
     "output_type": "execute_result"
    }
   ],
   "source": [
    "a.nbytes # Traz o total de bytes do array"
   ]
  },
  {
   "cell_type": "markdown",
   "metadata": {},
   "source": [
    "# Criação automática de arrays"
   ]
  },
  {
   "cell_type": "code",
   "execution_count": 16,
   "metadata": {
    "ExecuteTime": {
     "end_time": "2020-12-10T22:53:36.987585Z",
     "start_time": "2020-12-10T22:53:36.982571Z"
    }
   },
   "outputs": [],
   "source": [
    "a.shape = (5, 2)"
   ]
  },
  {
   "cell_type": "code",
   "execution_count": 17,
   "metadata": {
    "ExecuteTime": {
     "end_time": "2020-12-10T22:53:37.509628Z",
     "start_time": "2020-12-10T22:53:37.501625Z"
    }
   },
   "outputs": [
    {
     "data": {
      "text/plain": [
       "array([20, 20, 20, 20, 20])"
      ]
     },
     "execution_count": 17,
     "metadata": {},
     "output_type": "execute_result"
    }
   ],
   "source": [
    "np.full(5, 20) #Cria um array do tamanho especificado com apenas o elemento especificado "
   ]
  },
  {
   "cell_type": "code",
   "execution_count": 20,
   "metadata": {
    "ExecuteTime": {
     "end_time": "2020-12-10T22:54:54.833075Z",
     "start_time": "2020-12-10T22:54:54.824076Z"
    }
   },
   "outputs": [
    {
     "data": {
      "text/plain": [
       "array([[4.5, 4.5],\n",
       "       [4.5, 4.5],\n",
       "       [4.5, 4.5],\n",
       "       [4.5, 4.5],\n",
       "       [4.5, 4.5]], dtype=float32)"
      ]
     },
     "execution_count": 20,
     "metadata": {},
     "output_type": "execute_result"
    }
   ],
   "source": [
    "np.full_like(a, a.mean(), dtype='float32')"
   ]
  },
  {
   "cell_type": "code",
   "execution_count": 22,
   "metadata": {
    "ExecuteTime": {
     "end_time": "2020-12-10T23:07:15.685437Z",
     "start_time": "2020-12-10T23:07:15.676027Z"
    }
   },
   "outputs": [
    {
     "data": {
      "text/plain": [
       "array([[1., 0., 0.],\n",
       "       [0., 1., 0.],\n",
       "       [0., 0., 1.]])"
      ]
     },
     "execution_count": 22,
     "metadata": {},
     "output_type": "execute_result"
    }
   ],
   "source": [
    "np.identity(3)"
   ]
  },
  {
   "cell_type": "code",
   "execution_count": 27,
   "metadata": {
    "ExecuteTime": {
     "end_time": "2020-12-10T23:08:19.823423Z",
     "start_time": "2020-12-10T23:08:19.814419Z"
    }
   },
   "outputs": [
    {
     "data": {
      "text/plain": [
       "array([[ 5,  0,  0,  0],\n",
       "       [ 0, 10,  0,  0],\n",
       "       [ 0,  0,  5,  0],\n",
       "       [ 0,  0,  0,  2]])"
      ]
     },
     "execution_count": 27,
     "metadata": {},
     "output_type": "execute_result"
    }
   ],
   "source": [
    "np.diag([5, 10, 5, 2])"
   ]
  },
  {
   "cell_type": "code",
   "execution_count": 30,
   "metadata": {
    "ExecuteTime": {
     "end_time": "2020-12-10T23:08:39.544600Z",
     "start_time": "2020-12-10T23:08:39.536599Z"
    }
   },
   "outputs": [
    {
     "data": {
      "text/plain": [
       "array([0, 0, 1, 1, 2, 2, 3, 3, 4, 4, 5, 5, 6, 6, 7, 7, 8, 8, 9, 9])"
      ]
     },
     "execution_count": 30,
     "metadata": {},
     "output_type": "execute_result"
    }
   ],
   "source": [
    "np.repeat(a, 2)"
   ]
  },
  {
   "cell_type": "code",
   "execution_count": 40,
   "metadata": {
    "ExecuteTime": {
     "end_time": "2020-12-10T23:17:44.060222Z",
     "start_time": "2020-12-10T23:17:44.055218Z"
    }
   },
   "outputs": [],
   "source": [
    "repetida = np.repeat(np.array([[1, 2, 3]]), 3, axis=0) #axis = 0 -> linhas\n",
    "                                                       #axis = 1 -> colunas"
   ]
  },
  {
   "cell_type": "code",
   "execution_count": 43,
   "metadata": {
    "ExecuteTime": {
     "end_time": "2020-12-10T23:18:11.921690Z",
     "start_time": "2020-12-10T23:18:11.913209Z"
    }
   },
   "outputs": [
    {
     "data": {
      "text/plain": [
       "array([[1, 1, 1],\n",
       "       [2, 2, 2],\n",
       "       [3, 3, 3]])"
      ]
     },
     "execution_count": 43,
     "metadata": {},
     "output_type": "execute_result"
    }
   ],
   "source": [
    "repetida.T #Inverte linha por coluna"
   ]
  },
  {
   "cell_type": "code",
   "execution_count": 45,
   "metadata": {
    "ExecuteTime": {
     "end_time": "2020-12-10T23:21:42.727050Z",
     "start_time": "2020-12-10T23:21:42.719742Z"
    }
   },
   "outputs": [
    {
     "data": {
      "text/plain": [
       "4.5"
      ]
     },
     "execution_count": 45,
     "metadata": {},
     "output_type": "execute_result"
    }
   ],
   "source": [
    "np.average(a) #Análogo a .mean()"
   ]
  },
  {
   "cell_type": "code",
   "execution_count": 47,
   "metadata": {
    "ExecuteTime": {
     "end_time": "2020-12-10T23:22:54.271086Z",
     "start_time": "2020-12-10T23:22:54.263085Z"
    }
   },
   "outputs": [
    {
     "data": {
      "text/plain": [
       "array([[0, 1],\n",
       "       [2, 3],\n",
       "       [4, 5],\n",
       "       [6, 7],\n",
       "       [8, 9]])"
      ]
     },
     "execution_count": 47,
     "metadata": {},
     "output_type": "execute_result"
    }
   ],
   "source": [
    "a"
   ]
  },
  {
   "cell_type": "code",
   "execution_count": 50,
   "metadata": {
    "ExecuteTime": {
     "end_time": "2020-12-10T23:40:36.974632Z",
     "start_time": "2020-12-10T23:40:36.966648Z"
    }
   },
   "outputs": [
    {
     "data": {
      "text/plain": [
       "array([ 1,  5,  9, 13, 17])"
      ]
     },
     "execution_count": 50,
     "metadata": {},
     "output_type": "execute_result"
    }
   ],
   "source": [
    "a.sum(axis=1)"
   ]
  },
  {
   "cell_type": "markdown",
   "metadata": {},
   "source": [
    "### Carregando dados TXT em numpy"
   ]
  },
  {
   "cell_type": "code",
   "execution_count": 54,
   "metadata": {
    "ExecuteTime": {
     "end_time": "2020-12-10T23:45:23.906116Z",
     "start_time": "2020-12-10T23:45:23.899119Z"
    }
   },
   "outputs": [],
   "source": [
    "arquivo = np.genfromtxt('data.txt', delimiter=',')"
   ]
  },
  {
   "cell_type": "code",
   "execution_count": 55,
   "metadata": {
    "ExecuteTime": {
     "end_time": "2020-12-10T23:46:25.419451Z",
     "start_time": "2020-12-10T23:46:25.410451Z"
    }
   },
   "outputs": [
    {
     "data": {
      "text/plain": [
       "(3, 18)"
      ]
     },
     "execution_count": 55,
     "metadata": {},
     "output_type": "execute_result"
    }
   ],
   "source": [
    "arquivo.shape"
   ]
  },
  {
   "cell_type": "markdown",
   "metadata": {},
   "source": [
    "### Máscara"
   ]
  },
  {
   "cell_type": "code",
   "execution_count": 62,
   "metadata": {
    "ExecuteTime": {
     "end_time": "2020-12-10T23:48:28.703492Z",
     "start_time": "2020-12-10T23:48:28.697478Z"
    }
   },
   "outputs": [],
   "source": [
    "matriz = np.random.randint(1, 100, (5, 5))"
   ]
  },
  {
   "cell_type": "code",
   "execution_count": 63,
   "metadata": {
    "ExecuteTime": {
     "end_time": "2020-12-10T23:48:31.293465Z",
     "start_time": "2020-12-10T23:48:31.285475Z"
    }
   },
   "outputs": [
    {
     "data": {
      "text/plain": [
       "array([[64, 41, 96, 42, 40],\n",
       "       [46, 66, 70, 98, 35],\n",
       "       [60, 56,  5,  9,  8],\n",
       "       [63, 67, 38, 58, 69],\n",
       "       [92, 89, 36, 30, 69]])"
      ]
     },
     "execution_count": 63,
     "metadata": {},
     "output_type": "execute_result"
    }
   ],
   "source": [
    "matriz"
   ]
  },
  {
   "cell_type": "code",
   "execution_count": 64,
   "metadata": {
    "ExecuteTime": {
     "end_time": "2020-12-10T23:49:54.362867Z",
     "start_time": "2020-12-10T23:49:54.353867Z"
    }
   },
   "outputs": [
    {
     "data": {
      "text/plain": [
       "array([96, 98, 92, 89])"
      ]
     },
     "execution_count": 64,
     "metadata": {},
     "output_type": "execute_result"
    }
   ],
   "source": [
    "matriz[matriz>=80]"
   ]
  },
  {
   "cell_type": "markdown",
   "metadata": {},
   "source": [
    "- AND: &\n",
    "- OR: |"
   ]
  },
  {
   "cell_type": "code",
   "execution_count": 65,
   "metadata": {
    "ExecuteTime": {
     "end_time": "2020-12-10T23:55:06.415933Z",
     "start_time": "2020-12-10T23:55:06.408804Z"
    }
   },
   "outputs": [
    {
     "data": {
      "text/plain": [
       "array([96, 98,  5,  9,  8, 92, 89])"
      ]
     },
     "execution_count": 65,
     "metadata": {},
     "output_type": "execute_result"
    }
   ],
   "source": [
    "matriz[(matriz < 20) | (matriz > 80)]"
   ]
  },
  {
   "cell_type": "code",
   "execution_count": 69,
   "metadata": {
    "ExecuteTime": {
     "end_time": "2020-12-11T00:22:30.786181Z",
     "start_time": "2020-12-11T00:22:30.780130Z"
    }
   },
   "outputs": [
    {
     "data": {
      "text/plain": [
       "False"
      ]
     },
     "execution_count": 69,
     "metadata": {},
     "output_type": "execute_result"
    }
   ],
   "source": [
    "np.all(matriz > 50)"
   ]
  },
  {
   "cell_type": "code",
   "execution_count": 70,
   "metadata": {
    "ExecuteTime": {
     "end_time": "2020-12-11T00:22:40.796027Z",
     "start_time": "2020-12-11T00:22:40.788056Z"
    }
   },
   "outputs": [
    {
     "data": {
      "text/plain": [
       "True"
      ]
     },
     "execution_count": 70,
     "metadata": {},
     "output_type": "execute_result"
    }
   ],
   "source": [
    "np.any(matriz > 50)"
   ]
  },
  {
   "cell_type": "markdown",
   "metadata": {},
   "source": [
    "# Pandas"
   ]
  },
  {
   "cell_type": "code",
   "execution_count": 73,
   "metadata": {
    "ExecuteTime": {
     "end_time": "2020-12-11T00:41:14.630410Z",
     "start_time": "2020-12-11T00:41:14.626424Z"
    }
   },
   "outputs": [],
   "source": [
    "import pandas as pd"
   ]
  },
  {
   "cell_type": "code",
   "execution_count": 74,
   "metadata": {
    "ExecuteTime": {
     "end_time": "2020-12-11T00:41:17.794031Z",
     "start_time": "2020-12-11T00:41:17.786024Z"
    }
   },
   "outputs": [
    {
     "data": {
      "text/plain": [
       "'1.1.3'"
      ]
     },
     "execution_count": 74,
     "metadata": {},
     "output_type": "execute_result"
    }
   ],
   "source": [
    "pd.__version__"
   ]
  },
  {
   "cell_type": "code",
   "execution_count": 76,
   "metadata": {
    "ExecuteTime": {
     "end_time": "2020-12-11T00:42:03.239457Z",
     "start_time": "2020-12-11T00:42:03.216399Z"
    }
   },
   "outputs": [],
   "source": [
    "series = pd.Series([1, 2, 3, 4, 5])"
   ]
  },
  {
   "cell_type": "code",
   "execution_count": 79,
   "metadata": {
    "ExecuteTime": {
     "end_time": "2020-12-11T00:45:53.248222Z",
     "start_time": "2020-12-11T00:45:53.223519Z"
    }
   },
   "outputs": [],
   "source": [
    "steps = np.Series([1245, 3214, 5124, 2000, 3000], index=['Segunda', 'Terça', 'Quarta', 'Quinta', 'Sexta'])"
   ]
  },
  {
   "cell_type": "code",
   "execution_count": 80,
   "metadata": {
    "ExecuteTime": {
     "end_time": "2020-12-11T00:46:00.021150Z",
     "start_time": "2020-12-11T00:45:59.990984Z"
    }
   },
   "outputs": [
    {
     "data": {
      "text/plain": [
       "Segunda    1245\n",
       "Terça      3214\n",
       "Quarta     5124\n",
       "Quinta     2000\n",
       "Sexta      3000\n",
       "dtype: int64"
      ]
     },
     "execution_count": 80,
     "metadata": {},
     "output_type": "execute_result"
    }
   ],
   "source": [
    "steps"
   ]
  },
  {
   "cell_type": "code",
   "execution_count": 84,
   "metadata": {
    "ExecuteTime": {
     "end_time": "2020-12-11T00:47:21.332325Z",
     "start_time": "2020-12-11T00:47:21.322324Z"
    }
   },
   "outputs": [
    {
     "data": {
      "text/plain": [
       "0    1245\n",
       "1    3214\n",
       "2    5124\n",
       "3    2000\n",
       "4    3000\n",
       "dtype: int32"
      ]
     },
     "execution_count": 84,
     "metadata": {},
     "output_type": "execute_result"
    }
   ],
   "source": [
    "array = np.array([1245, 3214, 5124, 2000, 3000])\n",
    "pd.Series(array)"
   ]
  },
  {
   "cell_type": "code",
   "execution_count": 85,
   "metadata": {
    "ExecuteTime": {
     "end_time": "2020-12-11T00:47:53.364997Z",
     "start_time": "2020-12-11T00:47:53.353995Z"
    }
   },
   "outputs": [
    {
     "data": {
      "text/plain": [
       "A    1\n",
       "B    2\n",
       "dtype: int64"
      ]
     },
     "execution_count": 85,
     "metadata": {},
     "output_type": "execute_result"
    }
   ],
   "source": [
    "pd.Series({'A':1, 'B':2})"
   ]
  },
  {
   "cell_type": "code",
   "execution_count": 87,
   "metadata": {
    "ExecuteTime": {
     "end_time": "2020-12-11T00:54:38.076321Z",
     "start_time": "2020-12-11T00:54:38.068319Z"
    }
   },
   "outputs": [
    {
     "data": {
      "text/plain": [
       "Index(['Segunda', 'Terça', 'Quarta', 'Quinta', 'Sexta'], dtype='object')"
      ]
     },
     "execution_count": 87,
     "metadata": {},
     "output_type": "execute_result"
    }
   ],
   "source": [
    "steps.index"
   ]
  },
  {
   "cell_type": "code",
   "execution_count": 89,
   "metadata": {
    "ExecuteTime": {
     "end_time": "2020-12-11T00:54:50.027874Z",
     "start_time": "2020-12-11T00:54:50.017866Z"
    }
   },
   "outputs": [
    {
     "data": {
      "text/plain": [
       "array([1245, 3214, 5124, 2000, 3000], dtype=int64)"
      ]
     },
     "execution_count": 89,
     "metadata": {},
     "output_type": "execute_result"
    }
   ],
   "source": [
    "steps.values"
   ]
  },
  {
   "cell_type": "code",
   "execution_count": 90,
   "metadata": {
    "ExecuteTime": {
     "end_time": "2020-12-11T00:55:13.740972Z",
     "start_time": "2020-12-11T00:55:13.713861Z"
    }
   },
   "outputs": [
    {
     "data": {
      "text/plain": [
       "Segunda    1245\n",
       "Terça      3214\n",
       "Quarta     5124\n",
       "Quinta     2000\n",
       "Sexta      3000\n",
       "dtype: int64"
      ]
     },
     "execution_count": 90,
     "metadata": {},
     "output_type": "execute_result"
    }
   ],
   "source": [
    "steps.head()"
   ]
  },
  {
   "cell_type": "code",
   "execution_count": 93,
   "metadata": {
    "ExecuteTime": {
     "end_time": "2020-12-11T00:58:44.669503Z",
     "start_time": "2020-12-11T00:58:44.654484Z"
    }
   },
   "outputs": [
    {
     "data": {
      "text/plain": [
       "count       5.00000\n",
       "mean     2916.60000\n",
       "std      1466.49405\n",
       "min      1245.00000\n",
       "25%      2000.00000\n",
       "50%      3000.00000\n",
       "75%      3214.00000\n",
       "max      5124.00000\n",
       "dtype: float64"
      ]
     },
     "execution_count": 93,
     "metadata": {},
     "output_type": "execute_result"
    }
   ],
   "source": [
    "steps.describe() #Mostra algumas informações da Series"
   ]
  },
  {
   "cell_type": "code",
   "execution_count": 95,
   "metadata": {
    "ExecuteTime": {
     "end_time": "2020-12-11T00:59:37.994116Z",
     "start_time": "2020-12-11T00:59:37.986095Z"
    }
   },
   "outputs": [
    {
     "data": {
      "text/plain": [
       "1245"
      ]
     },
     "execution_count": 95,
     "metadata": {},
     "output_type": "execute_result"
    }
   ],
   "source": [
    "steps.min()"
   ]
  },
  {
   "cell_type": "code",
   "execution_count": 96,
   "metadata": {
    "ExecuteTime": {
     "end_time": "2020-12-11T00:59:45.509318Z",
     "start_time": "2020-12-11T00:59:45.500334Z"
    }
   },
   "outputs": [
    {
     "data": {
      "text/plain": [
       "5124"
      ]
     },
     "execution_count": 96,
     "metadata": {},
     "output_type": "execute_result"
    }
   ],
   "source": [
    "steps.max()"
   ]
  },
  {
   "cell_type": "code",
   "execution_count": 97,
   "metadata": {
    "ExecuteTime": {
     "end_time": "2020-12-11T00:59:51.744585Z",
     "start_time": "2020-12-11T00:59:51.734582Z"
    }
   },
   "outputs": [
    {
     "data": {
      "text/plain": [
       "2916.6"
      ]
     },
     "execution_count": 97,
     "metadata": {},
     "output_type": "execute_result"
    }
   ],
   "source": [
    "steps.mean()"
   ]
  },
  {
   "cell_type": "code",
   "execution_count": 98,
   "metadata": {
    "ExecuteTime": {
     "end_time": "2020-12-11T00:59:59.951967Z",
     "start_time": "2020-12-11T00:59:59.943963Z"
    }
   },
   "outputs": [
    {
     "data": {
      "text/plain": [
       "1466.494050448211"
      ]
     },
     "execution_count": 98,
     "metadata": {},
     "output_type": "execute_result"
    }
   ],
   "source": [
    "steps.std() #Desvio Padrão"
   ]
  },
  {
   "cell_type": "code",
   "execution_count": 101,
   "metadata": {
    "ExecuteTime": {
     "end_time": "2020-12-11T01:00:32.724162Z",
     "start_time": "2020-12-11T01:00:32.714162Z"
    }
   },
   "outputs": [
    {
     "data": {
      "text/plain": [
       "2150604.8000000003"
      ]
     },
     "execution_count": 101,
     "metadata": {},
     "output_type": "execute_result"
    }
   ],
   "source": [
    "steps.var() #Variância"
   ]
  },
  {
   "cell_type": "code",
   "execution_count": 102,
   "metadata": {
    "ExecuteTime": {
     "end_time": "2020-12-11T01:00:43.457334Z",
     "start_time": "2020-12-11T01:00:43.424827Z"
    }
   },
   "outputs": [
    {
     "data": {
      "text/plain": [
       "Segunda     1550025\n",
       "Terça      10329796\n",
       "Quarta     26255376\n",
       "Quinta      4000000\n",
       "Sexta       9000000\n",
       "dtype: int64"
      ]
     },
     "execution_count": 102,
     "metadata": {},
     "output_type": "execute_result"
    }
   ],
   "source": [
    "steps ** 2"
   ]
  },
  {
   "cell_type": "code",
   "execution_count": 104,
   "metadata": {
    "ExecuteTime": {
     "end_time": "2020-12-11T01:01:25.689500Z",
     "start_time": "2020-12-11T01:01:25.680510Z"
    }
   },
   "outputs": [
    {
     "data": {
      "text/plain": [
       "Segunda    35.284558\n",
       "Terça      56.692151\n",
       "Quarta     71.582121\n",
       "Quinta     44.721360\n",
       "Sexta      54.772256\n",
       "dtype: float64"
      ]
     },
     "execution_count": 104,
     "metadata": {},
     "output_type": "execute_result"
    }
   ],
   "source": [
    "np.sqrt(steps)"
   ]
  },
  {
   "cell_type": "markdown",
   "metadata": {},
   "source": [
    "### Indexação e slice"
   ]
  },
  {
   "cell_type": "code",
   "execution_count": 113,
   "metadata": {
    "ExecuteTime": {
     "end_time": "2020-12-11T01:02:24.909643Z",
     "start_time": "2020-12-11T01:02:24.900623Z"
    }
   },
   "outputs": [
    {
     "data": {
      "text/plain": [
       "0    1\n",
       "1    2\n",
       "2    3\n",
       "dtype: int64"
      ]
     },
     "execution_count": 113,
     "metadata": {},
     "output_type": "execute_result"
    }
   ],
   "source": [
    "series[:3]"
   ]
  },
  {
   "cell_type": "code",
   "execution_count": 117,
   "metadata": {
    "ExecuteTime": {
     "end_time": "2020-12-11T01:02:57.519493Z",
     "start_time": "2020-12-11T01:02:57.509476Z"
    }
   },
   "outputs": [
    {
     "data": {
      "text/plain": [
       "1245"
      ]
     },
     "execution_count": 117,
     "metadata": {},
     "output_type": "execute_result"
    }
   ],
   "source": [
    "steps['Segunda']"
   ]
  },
  {
   "cell_type": "code",
   "execution_count": 120,
   "metadata": {
    "ExecuteTime": {
     "end_time": "2020-12-11T01:03:56.563224Z",
     "start_time": "2020-12-11T01:03:56.555219Z"
    }
   },
   "outputs": [
    {
     "data": {
      "text/plain": [
       "1245"
      ]
     },
     "execution_count": 120,
     "metadata": {},
     "output_type": "execute_result"
    }
   ],
   "source": [
    "steps[0]"
   ]
  },
  {
   "cell_type": "code",
   "execution_count": 122,
   "metadata": {
    "ExecuteTime": {
     "end_time": "2020-12-11T01:05:16.258208Z",
     "start_time": "2020-12-11T01:05:16.248205Z"
    }
   },
   "outputs": [
    {
     "data": {
      "text/plain": [
       "Segunda    1245\n",
       "Terça      3214\n",
       "Quarta     5124\n",
       "Quinta     2000\n",
       "Sexta      3000\n",
       "dtype: int64"
      ]
     },
     "execution_count": 122,
     "metadata": {},
     "output_type": "execute_result"
    }
   ],
   "source": [
    "steps['Segunda':'Sexta']"
   ]
  },
  {
   "cell_type": "code",
   "execution_count": 125,
   "metadata": {
    "ExecuteTime": {
     "end_time": "2020-12-11T01:08:40.270077Z",
     "start_time": "2020-12-11T01:08:40.260087Z"
    }
   },
   "outputs": [
    {
     "data": {
      "text/plain": [
       "Sexta      3000\n",
       "Quinta     2000\n",
       "Quarta     5124\n",
       "Terça      3214\n",
       "Segunda    1245\n",
       "dtype: int64"
      ]
     },
     "execution_count": 125,
     "metadata": {},
     "output_type": "execute_result"
    }
   ],
   "source": [
    "steps['Sexta':'Segunda':-1]"
   ]
  },
  {
   "cell_type": "code",
   "execution_count": 127,
   "metadata": {
    "ExecuteTime": {
     "end_time": "2020-12-11T01:08:52.324214Z",
     "start_time": "2020-12-11T01:08:52.313212Z"
    }
   },
   "outputs": [
    {
     "data": {
      "text/plain": [
       "Quarta    5124\n",
       "dtype: int64"
      ]
     },
     "execution_count": 127,
     "metadata": {},
     "output_type": "execute_result"
    }
   ],
   "source": [
    "steps[steps>5000]"
   ]
  },
  {
   "cell_type": "code",
   "execution_count": 132,
   "metadata": {
    "ExecuteTime": {
     "end_time": "2020-12-11T01:12:03.029127Z",
     "start_time": "2020-12-11T01:12:03.018113Z"
    }
   },
   "outputs": [
    {
     "data": {
      "text/plain": [
       "Segunda    False\n",
       "Terça      False\n",
       "Quarta     False\n",
       "Quinta     False\n",
       "Sexta      False\n",
       "dtype: bool"
      ]
     },
     "execution_count": 132,
     "metadata": {},
     "output_type": "execute_result"
    }
   ],
   "source": [
    "steps.isin(steps > 4000)"
   ]
  },
  {
   "cell_type": "markdown",
   "metadata": {},
   "source": [
    "### Exercícios"
   ]
  },
  {
   "cell_type": "code",
   "execution_count": 134,
   "metadata": {
    "ExecuteTime": {
     "end_time": "2020-12-11T01:21:04.336391Z",
     "start_time": "2020-12-11T01:21:04.327375Z"
    }
   },
   "outputs": [],
   "source": [
    "linguagens = pd.Series({'C': 16.48, 'Java':12.53, 'Python':12.21, 'C++':6.91, 'C#':4.20,\n",
    "                        'Visual Basic':3.92, 'JavaScript':2.35, 'PHP':2.12, 'R':1.60, 'SQL':1.53})"
   ]
  },
  {
   "cell_type": "code",
   "execution_count": 140,
   "metadata": {
    "ExecuteTime": {
     "end_time": "2020-12-11T01:23:11.154970Z",
     "start_time": "2020-12-11T01:23:11.145985Z"
    }
   },
   "outputs": [
    {
     "data": {
      "text/plain": [
       "Visual Basic    3.92\n",
       "JavaScript      2.35\n",
       "PHP             2.12\n",
       "R               1.60\n",
       "SQL             1.53\n",
       "dtype: float64"
      ]
     },
     "execution_count": 140,
     "metadata": {},
     "output_type": "execute_result"
    }
   ],
   "source": [
    "linguagens.head()\n",
    "linguagens[5:]"
   ]
  },
  {
   "cell_type": "code",
   "execution_count": 146,
   "metadata": {
    "ExecuteTime": {
     "end_time": "2020-12-11T01:29:14.656400Z",
     "start_time": "2020-12-11T01:29:14.651386Z"
    }
   },
   "outputs": [],
   "source": [
    "fibonacci = [0, 1]\n",
    "for i in range(9):\n",
    "    fibonacci.append(fibonacci[i] + fibonacci[i+1])"
   ]
  },
  {
   "cell_type": "code",
   "execution_count": 147,
   "metadata": {
    "ExecuteTime": {
     "end_time": "2020-12-11T01:29:16.806941Z",
     "start_time": "2020-12-11T01:29:16.801939Z"
    }
   },
   "outputs": [],
   "source": [
    "series = pd.Series(fibonacci, index='a b c d e f g h i j k'.split())"
   ]
  },
  {
   "cell_type": "code",
   "execution_count": 150,
   "metadata": {
    "ExecuteTime": {
     "end_time": "2020-12-11T01:30:08.780815Z",
     "start_time": "2020-12-11T01:30:08.771812Z"
    }
   },
   "outputs": [
    {
     "data": {
      "text/plain": [
       "h    13\n",
       "i    21\n",
       "j    34\n",
       "dtype: int64"
      ]
     },
     "execution_count": 150,
     "metadata": {},
     "output_type": "execute_result"
    }
   ],
   "source": [
    "series[(series > 10) & (series < 50)]"
   ]
  },
  {
   "cell_type": "code",
   "execution_count": 154,
   "metadata": {
    "ExecuteTime": {
     "end_time": "2020-12-11T01:33:40.375150Z",
     "start_time": "2020-12-11T01:33:40.367329Z"
    }
   },
   "outputs": [],
   "source": [
    "series2 = pd.Series([1, 2, 3, 4, 5, 6, 7, 8, 9, 5, 3])"
   ]
  },
  {
   "cell_type": "code",
   "execution_count": 157,
   "metadata": {
    "ExecuteTime": {
     "end_time": "2020-12-11T01:37:11.207671Z",
     "start_time": "2020-12-11T01:37:11.199375Z"
    }
   },
   "outputs": [],
   "source": [
    "def infos(series):\n",
    "    print(f'Média: {series.mean()}')\n",
    "    print(f'Desvio Padrão: {series.std()}')"
   ]
  },
  {
   "cell_type": "code",
   "execution_count": 159,
   "metadata": {
    "ExecuteTime": {
     "end_time": "2020-12-11T14:14:00.124187Z",
     "start_time": "2020-12-11T14:14:00.117187Z"
    }
   },
   "outputs": [
    {
     "name": "stdout",
     "output_type": "stream",
     "text": [
      "Média: 4.818181818181818\n",
      "Desvio Padrão: 2.522624895547565\n"
     ]
    }
   ],
   "source": [
    "infos(series2)"
   ]
  },
  {
   "cell_type": "code",
   "execution_count": 161,
   "metadata": {
    "ExecuteTime": {
     "end_time": "2020-12-11T14:16:05.539256Z",
     "start_time": "2020-12-11T14:16:05.535254Z"
    }
   },
   "outputs": [],
   "source": [
    "arr = np.random.randint(1, 5, 20)\n",
    "\n",
    "serie = pd.Series(arr)"
   ]
  },
  {
   "cell_type": "code",
   "execution_count": 166,
   "metadata": {
    "ExecuteTime": {
     "end_time": "2020-12-11T14:26:14.161763Z",
     "start_time": "2020-12-11T14:26:14.158763Z"
    }
   },
   "outputs": [],
   "source": [
    "from collections import Counter"
   ]
  },
  {
   "cell_type": "code",
   "execution_count": 171,
   "metadata": {
    "ExecuteTime": {
     "end_time": "2020-12-11T14:29:01.602509Z",
     "start_time": "2020-12-11T14:29:01.597058Z"
    }
   },
   "outputs": [],
   "source": [
    "frequencia = Counter(serie)\n",
    "\n",
    "percentual = {}\n",
    "\n",
    "for i, v in frequencia.items():\n",
    "    f = v / len(serie) * 100\n",
    "    percentual[i] = f"
   ]
  },
  {
   "cell_type": "code",
   "execution_count": 174,
   "metadata": {
    "ExecuteTime": {
     "end_time": "2020-12-11T14:33:03.491512Z",
     "start_time": "2020-12-11T14:33:03.486496Z"
    }
   },
   "outputs": [
    {
     "data": {
      "text/plain": [
       "{2: 20.0, 4: 35.0, 1: 30.0, 3: 15.0}"
      ]
     },
     "execution_count": 174,
     "metadata": {},
     "output_type": "execute_result"
    }
   ],
   "source": [
    "percentual"
   ]
  },
  {
   "cell_type": "code",
   "execution_count": 183,
   "metadata": {
    "ExecuteTime": {
     "end_time": "2020-12-11T14:36:31.139361Z",
     "start_time": "2020-12-11T14:36:31.127856Z"
    }
   },
   "outputs": [],
   "source": [
    "maior = max(frequencia)\n",
    "\n",
    "for indice, valor in enumerate(serie):\n",
    "    if valor != maior:\n",
    "        serie[indice] = 'Outro valor'"
   ]
  },
  {
   "cell_type": "code",
   "execution_count": 184,
   "metadata": {
    "ExecuteTime": {
     "end_time": "2020-12-11T14:36:32.266269Z",
     "start_time": "2020-12-11T14:36:32.251840Z"
    }
   },
   "outputs": [
    {
     "data": {
      "text/plain": [
       "0     Outro valor\n",
       "1               4\n",
       "2     Outro valor\n",
       "3               4\n",
       "4     Outro valor\n",
       "5     Outro valor\n",
       "6               4\n",
       "7               4\n",
       "8     Outro valor\n",
       "9     Outro valor\n",
       "10              4\n",
       "11              4\n",
       "12    Outro valor\n",
       "13    Outro valor\n",
       "14    Outro valor\n",
       "15    Outro valor\n",
       "16              4\n",
       "17    Outro valor\n",
       "18    Outro valor\n",
       "19    Outro valor\n",
       "dtype: object"
      ]
     },
     "execution_count": 184,
     "metadata": {},
     "output_type": "execute_result"
    }
   ],
   "source": [
    "serie"
   ]
  },
  {
   "cell_type": "code",
   "execution_count": 232,
   "metadata": {
    "ExecuteTime": {
     "end_time": "2020-12-11T14:51:51.637831Z",
     "start_time": "2020-12-11T14:51:51.623667Z"
    }
   },
   "outputs": [],
   "source": [
    "indices = np.arange(10, dtype='int64')"
   ]
  },
  {
   "cell_type": "code",
   "execution_count": 233,
   "metadata": {
    "ExecuteTime": {
     "end_time": "2020-12-11T14:51:52.045728Z",
     "start_time": "2020-12-11T14:51:52.041440Z"
    }
   },
   "outputs": [],
   "source": [
    "def fatorial(n):\n",
    "    if n == 1 or n == 0:\n",
    "        return 1\n",
    "    return n * fatorial(n-1)"
   ]
  },
  {
   "cell_type": "code",
   "execution_count": 234,
   "metadata": {
    "ExecuteTime": {
     "end_time": "2020-12-11T14:51:52.413066Z",
     "start_time": "2020-12-11T14:51:52.403556Z"
    }
   },
   "outputs": [],
   "source": [
    "fatoriais = {}\n",
    "for i in indices:\n",
    "    n = fatorial(i)\n",
    "    fatoriais[i] = n\n",
    "    \n",
    "series = pd.Series(fatoriais)"
   ]
  },
  {
   "cell_type": "code",
   "execution_count": 236,
   "metadata": {
    "ExecuteTime": {
     "end_time": "2020-12-11T14:54:36.524222Z",
     "start_time": "2020-12-11T14:54:36.512082Z"
    }
   },
   "outputs": [
    {
     "data": {
      "text/plain": [
       "0         1\n",
       "1         1\n",
       "2         2\n",
       "3         6\n",
       "4        24\n",
       "5       120\n",
       "6       720\n",
       "7      5040\n",
       "8     40320\n",
       "9    362880\n",
       "dtype: int64"
      ]
     },
     "execution_count": 236,
     "metadata": {},
     "output_type": "execute_result"
    }
   ],
   "source": [
    "series"
   ]
  },
  {
   "cell_type": "code",
   "execution_count": null,
   "metadata": {},
   "outputs": [],
   "source": []
  }
 ],
 "metadata": {
  "kernelspec": {
   "display_name": "Python 3",
   "language": "python",
   "name": "python3"
  },
  "language_info": {
   "codemirror_mode": {
    "name": "ipython",
    "version": 3
   },
   "file_extension": ".py",
   "mimetype": "text/x-python",
   "name": "python",
   "nbconvert_exporter": "python",
   "pygments_lexer": "ipython3",
   "version": "3.8.5"
  }
 },
 "nbformat": 4,
 "nbformat_minor": 4
}
