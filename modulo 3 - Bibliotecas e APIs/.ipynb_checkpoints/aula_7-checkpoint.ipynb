{
 "cells": [
  {
   "cell_type": "code",
   "execution_count": 1,
   "metadata": {
    "ExecuteTime": {
     "end_time": "2021-01-14T22:18:22.730989Z",
     "start_time": "2021-01-14T22:18:21.950046Z"
    }
   },
   "outputs": [],
   "source": [
    "import numpy as np\n",
    "import pandas as pd\n",
    "import matplotlib.pyplot as plt\n",
    "%matplotlib inline"
   ]
  },
  {
   "cell_type": "markdown",
   "metadata": {},
   "source": [
    "## Mais estilizações..."
   ]
  },
  {
   "cell_type": "code",
   "execution_count": 2,
   "metadata": {
    "ExecuteTime": {
     "end_time": "2021-01-14T22:19:26.369613Z",
     "start_time": "2021-01-14T22:19:26.348113Z"
    }
   },
   "outputs": [],
   "source": [
    "x = np.arange(1, 5, 0.01)\n",
    "\n",
    "y1 = (np.sin(x) / x)\n",
    "y2 = 2 ** x / 20"
   ]
  },
  {
   "cell_type": "code",
   "execution_count": 12,
   "metadata": {
    "ExecuteTime": {
     "end_time": "2021-01-14T22:41:20.497329Z",
     "start_time": "2021-01-14T22:41:20.368552Z"
    }
   },
   "outputs": [
    {
     "data": {
      "text/plain": [
       "(0.0, 6.0, -0.3, 1.0)"
      ]
     },
     "execution_count": 12,
     "metadata": {},
     "output_type": "execute_result"
    },
    {
     "data": {
      "image/png": "[encoded data removed]",
      "text/plain": [
       "<Figure size 576x396 with 1 Axes>"
      ]
     },
     "metadata": {},
     "output_type": "display_data"
    }
   ],
   "source": [
    "plt.style.use('seaborn')\n",
    "plt.plot(x, y1)\n",
    "\n",
    "# ticks -> traços que demarcam o eixo X ou Y\n",
    "plt.xticks([1, 2, 3, 4, 5])\n",
    "plt.yticks([-0.2, 0.2, 0.8])\n",
    "\n",
    "plt.axis([0, 6, -0.3, 1]) # x_min, x_max, y_min, y_max"
   ]
  },
  {
   "cell_type": "code",
   "execution_count": 49,
   "metadata": {
    "ExecuteTime": {
     "end_time": "2021-01-14T23:14:02.237939Z",
     "start_time": "2021-01-14T23:14:02.228937Z"
    }
   },
   "outputs": [],
   "source": [
    "df = pd.read_csv('../data_sets/life_expectancy.csv')"
   ]
  },
  {
   "cell_type": "code",
   "execution_count": 50,
   "metadata": {
    "ExecuteTime": {
     "end_time": "2021-01-14T23:14:07.923431Z",
     "start_time": "2021-01-14T23:14:07.904890Z"
    }
   },
   "outputs": [
    {
     "data": {
      "text/html": [
       "<div>\n",
       "<style scoped>\n",
       "    .dataframe tbody tr th:only-of-type {\n",
       "        vertical-align: middle;\n",
       "    }\n",
       "\n",
       "    .dataframe tbody tr th {\n",
       "        vertical-align: top;\n",
       "    }\n",
       "\n",
       "    .dataframe thead th {\n",
       "        text-align: right;\n",
       "    }\n",
       "</style>\n",
       "<table border=\"1\" class=\"dataframe\">\n",
       "  <thead>\n",
       "    <tr style=\"text-align: right;\">\n",
       "      <th></th>\n",
       "      <th>Unnamed: 0</th>\n",
       "      <th>Year</th>\n",
       "      <th>Life Expectancy</th>\n",
       "      <th>Country</th>\n",
       "    </tr>\n",
       "  </thead>\n",
       "  <tbody>\n",
       "    <tr>\n",
       "      <th>0</th>\n",
       "      <td>0</td>\n",
       "      <td>1950</td>\n",
       "      <td>49.56</td>\n",
       "      <td>Brazil</td>\n",
       "    </tr>\n",
       "    <tr>\n",
       "      <th>1</th>\n",
       "      <td>1</td>\n",
       "      <td>1951</td>\n",
       "      <td>49.98</td>\n",
       "      <td>Brazil</td>\n",
       "    </tr>\n",
       "    <tr>\n",
       "      <th>2</th>\n",
       "      <td>2</td>\n",
       "      <td>1952</td>\n",
       "      <td>50.41</td>\n",
       "      <td>Brazil</td>\n",
       "    </tr>\n",
       "    <tr>\n",
       "      <th>3</th>\n",
       "      <td>3</td>\n",
       "      <td>1953</td>\n",
       "      <td>50.83</td>\n",
       "      <td>Brazil</td>\n",
       "    </tr>\n",
       "    <tr>\n",
       "      <th>4</th>\n",
       "      <td>4</td>\n",
       "      <td>1954</td>\n",
       "      <td>51.25</td>\n",
       "      <td>Brazil</td>\n",
       "    </tr>\n",
       "  </tbody>\n",
       "</table>\n",
       "</div>"
      ],
      "text/plain": [
       "   Unnamed: 0  Year  Life Expectancy Country\n",
       "0           0  1950            49.56  Brazil\n",
       "1           1  1951            49.98  Brazil\n",
       "2           2  1952            50.41  Brazil\n",
       "3           3  1953            50.83  Brazil\n",
       "4           4  1954            51.25  Brazil"
      ]
     },
     "execution_count": 50,
     "metadata": {},
     "output_type": "execute_result"
    }
   ],
   "source": [
    "df.head()"
   ]
  },
  {
   "cell_type": "code",
   "execution_count": 51,
   "metadata": {
    "ExecuteTime": {
     "end_time": "2021-01-14T23:14:08.577230Z",
     "start_time": "2021-01-14T23:14:08.571224Z"
    }
   },
   "outputs": [],
   "source": [
    "df.drop('Unnamed: 0', axis=1, inplace=True)"
   ]
  },
  {
   "cell_type": "code",
   "execution_count": 52,
   "metadata": {
    "ExecuteTime": {
     "end_time": "2021-01-14T23:14:08.986806Z",
     "start_time": "2021-01-14T23:14:08.981812Z"
    }
   },
   "outputs": [],
   "source": [
    "le_brazil = df[df['Country'] == 'Brazil']\n",
    "le_eua = df[df['Country'] == 'EUA']"
   ]
  },
  {
   "cell_type": "code",
   "execution_count": 53,
   "metadata": {
    "ExecuteTime": {
     "end_time": "2021-01-14T23:14:10.042977Z",
     "start_time": "2021-01-14T23:14:09.684976Z"
    }
   },
   "outputs": [
    {
     "data": {
      "image/png": "[encoded data removed]",
      "text/plain": [
       "<Figure size 648x288 with 1 Axes>"
      ]
     },
     "metadata": {},
     "output_type": "display_data"
    }
   ],
   "source": [
    "plt.figure(figsize=(9,4))\n",
    "\n",
    "plt.plot(le_brazil['Year'], le_brazil['Life Expectancy'], label='Brazil', marker='o')\n",
    "plt.plot(le_eua['Year'], le_eua['Life Expectancy'], label='EUA', marker='o')\n",
    "\n",
    "#plt.fill(le_eua['Year'], le_eua['Life Expectancy'])\n",
    "#plt.fill_between(le_brazil['Year'], le_eua['Life Expectancy'], le_brazil['Life Expectancy'], alpha=0.3)\n",
    "plt.fill_between(le_brazil['Year'], le_eua['Life Expectancy'], 49, alpha=0.3, color='red')\n",
    "plt.fill_between(le_eua['Year'], le_brazil['Life Expectancy'], 49, alpha=0.3, color='blue')\n",
    "\n",
    "plt.legend(fontsize=12)\n",
    "plt.title('Life Expectancy')\n",
    "\n",
    "plt.xlabel('Year')\n",
    "plt.ylabel('Expectancy')\n",
    "\n",
    "plt.xticks(df['Year'])\n",
    "\n",
    "plt.tight_layout()"
   ]
  },
  {
   "cell_type": "markdown",
   "metadata": {},
   "source": [
    "# Gráfico de barras"
   ]
  },
  {
   "cell_type": "code",
   "execution_count": 89,
   "metadata": {
    "ExecuteTime": {
     "end_time": "2021-01-14T23:33:09.961957Z",
     "start_time": "2021-01-14T23:33:09.593969Z"
    }
   },
   "outputs": [
    {
     "data": {
      "text/plain": [
       "<matplotlib.legend.Legend at 0x124be388>"
      ]
     },
     "execution_count": 89,
     "metadata": {},
     "output_type": "execute_result"
    },
    {
     "data": {
      "image/png": "[encoded data removed]",
      "text/plain": [
       "<Figure size 576x288 with 1 Axes>"
      ]
     },
     "metadata": {},
     "output_type": "display_data"
    }
   ],
   "source": [
    "plt.figure(figsize=(8,4))\n",
    "\n",
    "plt.bar(le_brazil['Year'] - 0.2, le_brazil['Life Expectancy'], width=0.35, label='Brazil')\n",
    "plt.bar(le_eua['Year'] + 0.2, le_eua['Life Expectancy'], width=0.35, label='USA')\n",
    "\n",
    "plt.legend(fontsize=12)"
   ]
  },
  {
   "cell_type": "code",
   "execution_count": 74,
   "metadata": {
    "ExecuteTime": {
     "end_time": "2021-01-14T23:24:00.631802Z",
     "start_time": "2021-01-14T23:24:00.626801Z"
    }
   },
   "outputs": [],
   "source": [
    "x = np.arange(10)\n",
    "y = np.random.randint(-5, 5, 10)"
   ]
  },
  {
   "cell_type": "code",
   "execution_count": 78,
   "metadata": {
    "ExecuteTime": {
     "end_time": "2021-01-14T23:24:55.312078Z",
     "start_time": "2021-01-14T23:24:55.296454Z"
    }
   },
   "outputs": [
    {
     "data": {
      "text/plain": [
       "array([1, 4, 3, 2, 3, 3])"
      ]
     },
     "execution_count": 78,
     "metadata": {},
     "output_type": "execute_result"
    }
   ],
   "source": [
    "y[y > 0]"
   ]
  },
  {
   "cell_type": "code",
   "execution_count": 93,
   "metadata": {
    "ExecuteTime": {
     "end_time": "2021-01-14T23:34:44.732065Z",
     "start_time": "2021-01-14T23:34:44.545202Z"
    }
   },
   "outputs": [
    {
     "ename": "ValueError",
     "evalue": "shape mismatch: objects cannot be broadcast to a single shape",
     "output_type": "error",
     "traceback": [
      "\u001b[1;31m---------------------------------------------------------------------------\u001b[0m",
      "\u001b[1;31mValueError\u001b[0m                                Traceback (most recent call last)",
      "\u001b[1;32m<ipython-input-93-8244174c8abe>\u001b[0m in \u001b[0;36m<module>\u001b[1;34m\u001b[0m\n\u001b[1;32m----> 1\u001b[1;33m \u001b[0mplt\u001b[0m\u001b[1;33m.\u001b[0m\u001b[0mbar\u001b[0m\u001b[1;33m(\u001b[0m\u001b[0mx\u001b[0m\u001b[1;33m[\u001b[0m\u001b[0mx\u001b[0m \u001b[1;33m>\u001b[0m \u001b[1;36m0\u001b[0m\u001b[1;33m]\u001b[0m\u001b[1;33m,\u001b[0m \u001b[0my\u001b[0m\u001b[1;33m[\u001b[0m\u001b[0my\u001b[0m \u001b[1;33m>\u001b[0m \u001b[1;36m0\u001b[0m\u001b[1;33m]\u001b[0m\u001b[1;33m,\u001b[0m \u001b[0mcolor\u001b[0m\u001b[1;33m=\u001b[0m\u001b[1;34m'green'\u001b[0m\u001b[1;33m)\u001b[0m\u001b[1;33m\u001b[0m\u001b[1;33m\u001b[0m\u001b[0m\n\u001b[0m\u001b[0;32m      2\u001b[0m \u001b[0mplt\u001b[0m\u001b[1;33m.\u001b[0m\u001b[0mbar\u001b[0m\u001b[1;33m(\u001b[0m\u001b[0mx\u001b[0m\u001b[1;33m[\u001b[0m\u001b[0mx\u001b[0m \u001b[1;33m<\u001b[0m \u001b[1;36m0\u001b[0m\u001b[1;33m]\u001b[0m\u001b[1;33m,\u001b[0m \u001b[0my\u001b[0m\u001b[1;33m[\u001b[0m\u001b[0my\u001b[0m \u001b[1;33m<\u001b[0m \u001b[1;36m0\u001b[0m\u001b[1;33m]\u001b[0m\u001b[1;33m,\u001b[0m \u001b[0mcolor\u001b[0m\u001b[1;33m=\u001b[0m\u001b[1;34m'red'\u001b[0m\u001b[1;33m)\u001b[0m\u001b[1;33m\u001b[0m\u001b[1;33m\u001b[0m\u001b[0m\n",
      "\u001b[1;32mc:\\users\\vinic\\appdata\\local\\programs\\python\\python38-32\\lib\\site-packages\\matplotlib\\pyplot.py\u001b[0m in \u001b[0;36mbar\u001b[1;34m(x, height, width, bottom, align, data, **kwargs)\u001b[0m\n\u001b[0;32m   2485\u001b[0m         \u001b[0mx\u001b[0m\u001b[1;33m,\u001b[0m \u001b[0mheight\u001b[0m\u001b[1;33m,\u001b[0m \u001b[0mwidth\u001b[0m\u001b[1;33m=\u001b[0m\u001b[1;36m0.8\u001b[0m\u001b[1;33m,\u001b[0m \u001b[0mbottom\u001b[0m\u001b[1;33m=\u001b[0m\u001b[1;32mNone\u001b[0m\u001b[1;33m,\u001b[0m \u001b[1;33m*\u001b[0m\u001b[1;33m,\u001b[0m \u001b[0malign\u001b[0m\u001b[1;33m=\u001b[0m\u001b[1;34m'center'\u001b[0m\u001b[1;33m,\u001b[0m\u001b[1;33m\u001b[0m\u001b[1;33m\u001b[0m\u001b[0m\n\u001b[0;32m   2486\u001b[0m         data=None, **kwargs):\n\u001b[1;32m-> 2487\u001b[1;33m     return gca().bar(\n\u001b[0m\u001b[0;32m   2488\u001b[0m         \u001b[0mx\u001b[0m\u001b[1;33m,\u001b[0m \u001b[0mheight\u001b[0m\u001b[1;33m,\u001b[0m \u001b[0mwidth\u001b[0m\u001b[1;33m=\u001b[0m\u001b[0mwidth\u001b[0m\u001b[1;33m,\u001b[0m \u001b[0mbottom\u001b[0m\u001b[1;33m=\u001b[0m\u001b[0mbottom\u001b[0m\u001b[1;33m,\u001b[0m \u001b[0malign\u001b[0m\u001b[1;33m=\u001b[0m\u001b[0malign\u001b[0m\u001b[1;33m,\u001b[0m\u001b[1;33m\u001b[0m\u001b[1;33m\u001b[0m\u001b[0m\n\u001b[0;32m   2489\u001b[0m         **({\"data\": data} if data is not None else {}), **kwargs)\n",
      "\u001b[1;32mc:\\users\\vinic\\appdata\\local\\programs\\python\\python38-32\\lib\\site-packages\\matplotlib\\__init__.py\u001b[0m in \u001b[0;36minner\u001b[1;34m(ax, data, *args, **kwargs)\u001b[0m\n\u001b[0;32m   1436\u001b[0m     \u001b[1;32mdef\u001b[0m \u001b[0minner\u001b[0m\u001b[1;33m(\u001b[0m\u001b[0max\u001b[0m\u001b[1;33m,\u001b[0m \u001b[1;33m*\u001b[0m\u001b[0margs\u001b[0m\u001b[1;33m,\u001b[0m \u001b[0mdata\u001b[0m\u001b[1;33m=\u001b[0m\u001b[1;32mNone\u001b[0m\u001b[1;33m,\u001b[0m \u001b[1;33m**\u001b[0m\u001b[0mkwargs\u001b[0m\u001b[1;33m)\u001b[0m\u001b[1;33m:\u001b[0m\u001b[1;33m\u001b[0m\u001b[1;33m\u001b[0m\u001b[0m\n\u001b[0;32m   1437\u001b[0m         \u001b[1;32mif\u001b[0m \u001b[0mdata\u001b[0m \u001b[1;32mis\u001b[0m \u001b[1;32mNone\u001b[0m\u001b[1;33m:\u001b[0m\u001b[1;33m\u001b[0m\u001b[1;33m\u001b[0m\u001b[0m\n\u001b[1;32m-> 1438\u001b[1;33m             \u001b[1;32mreturn\u001b[0m \u001b[0mfunc\u001b[0m\u001b[1;33m(\u001b[0m\u001b[0max\u001b[0m\u001b[1;33m,\u001b[0m \u001b[1;33m*\u001b[0m\u001b[0mmap\u001b[0m\u001b[1;33m(\u001b[0m\u001b[0msanitize_sequence\u001b[0m\u001b[1;33m,\u001b[0m \u001b[0margs\u001b[0m\u001b[1;33m)\u001b[0m\u001b[1;33m,\u001b[0m \u001b[1;33m**\u001b[0m\u001b[0mkwargs\u001b[0m\u001b[1;33m)\u001b[0m\u001b[1;33m\u001b[0m\u001b[1;33m\u001b[0m\u001b[0m\n\u001b[0m\u001b[0;32m   1439\u001b[0m \u001b[1;33m\u001b[0m\u001b[0m\n\u001b[0;32m   1440\u001b[0m         \u001b[0mbound\u001b[0m \u001b[1;33m=\u001b[0m \u001b[0mnew_sig\u001b[0m\u001b[1;33m.\u001b[0m\u001b[0mbind\u001b[0m\u001b[1;33m(\u001b[0m\u001b[0max\u001b[0m\u001b[1;33m,\u001b[0m \u001b[1;33m*\u001b[0m\u001b[0margs\u001b[0m\u001b[1;33m,\u001b[0m \u001b[1;33m**\u001b[0m\u001b[0mkwargs\u001b[0m\u001b[1;33m)\u001b[0m\u001b[1;33m\u001b[0m\u001b[1;33m\u001b[0m\u001b[0m\n",
      "\u001b[1;32mc:\\users\\vinic\\appdata\\local\\programs\\python\\python38-32\\lib\\site-packages\\matplotlib\\axes\\_axes.py\u001b[0m in \u001b[0;36mbar\u001b[1;34m(self, x, height, width, bottom, align, **kwargs)\u001b[0m\n\u001b[0;32m   2428\u001b[0m                 \u001b[0myerr\u001b[0m \u001b[1;33m=\u001b[0m \u001b[0mself\u001b[0m\u001b[1;33m.\u001b[0m\u001b[0m_convert_dx\u001b[0m\u001b[1;33m(\u001b[0m\u001b[0myerr\u001b[0m\u001b[1;33m,\u001b[0m \u001b[0my0\u001b[0m\u001b[1;33m,\u001b[0m \u001b[0my\u001b[0m\u001b[1;33m,\u001b[0m \u001b[0mself\u001b[0m\u001b[1;33m.\u001b[0m\u001b[0mconvert_yunits\u001b[0m\u001b[1;33m)\u001b[0m\u001b[1;33m\u001b[0m\u001b[1;33m\u001b[0m\u001b[0m\n\u001b[0;32m   2429\u001b[0m \u001b[1;33m\u001b[0m\u001b[0m\n\u001b[1;32m-> 2430\u001b[1;33m         x, height, width, y, linewidth = np.broadcast_arrays(\n\u001b[0m\u001b[0;32m   2431\u001b[0m             \u001b[1;31m# Make args iterable too.\u001b[0m\u001b[1;33m\u001b[0m\u001b[1;33m\u001b[0m\u001b[1;33m\u001b[0m\u001b[0m\n\u001b[0;32m   2432\u001b[0m             np.atleast_1d(x), height, width, y, linewidth)\n",
      "\u001b[1;32m<__array_function__ internals>\u001b[0m in \u001b[0;36mbroadcast_arrays\u001b[1;34m(*args, **kwargs)\u001b[0m\n",
      "\u001b[1;32mc:\\users\\vinic\\appdata\\local\\programs\\python\\python38-32\\lib\\site-packages\\numpy\\lib\\stride_tricks.py\u001b[0m in \u001b[0;36mbroadcast_arrays\u001b[1;34m(subok, *args)\u001b[0m\n\u001b[0;32m    256\u001b[0m     \u001b[0margs\u001b[0m \u001b[1;33m=\u001b[0m \u001b[1;33m[\u001b[0m\u001b[0mnp\u001b[0m\u001b[1;33m.\u001b[0m\u001b[0marray\u001b[0m\u001b[1;33m(\u001b[0m\u001b[0m_m\u001b[0m\u001b[1;33m,\u001b[0m \u001b[0mcopy\u001b[0m\u001b[1;33m=\u001b[0m\u001b[1;32mFalse\u001b[0m\u001b[1;33m,\u001b[0m \u001b[0msubok\u001b[0m\u001b[1;33m=\u001b[0m\u001b[0msubok\u001b[0m\u001b[1;33m)\u001b[0m \u001b[1;32mfor\u001b[0m \u001b[0m_m\u001b[0m \u001b[1;32min\u001b[0m \u001b[0margs\u001b[0m\u001b[1;33m]\u001b[0m\u001b[1;33m\u001b[0m\u001b[1;33m\u001b[0m\u001b[0m\n\u001b[0;32m    257\u001b[0m \u001b[1;33m\u001b[0m\u001b[0m\n\u001b[1;32m--> 258\u001b[1;33m     \u001b[0mshape\u001b[0m \u001b[1;33m=\u001b[0m \u001b[0m_broadcast_shape\u001b[0m\u001b[1;33m(\u001b[0m\u001b[1;33m*\u001b[0m\u001b[0margs\u001b[0m\u001b[1;33m)\u001b[0m\u001b[1;33m\u001b[0m\u001b[1;33m\u001b[0m\u001b[0m\n\u001b[0m\u001b[0;32m    259\u001b[0m \u001b[1;33m\u001b[0m\u001b[0m\n\u001b[0;32m    260\u001b[0m     \u001b[1;32mif\u001b[0m \u001b[0mall\u001b[0m\u001b[1;33m(\u001b[0m\u001b[0marray\u001b[0m\u001b[1;33m.\u001b[0m\u001b[0mshape\u001b[0m \u001b[1;33m==\u001b[0m \u001b[0mshape\u001b[0m \u001b[1;32mfor\u001b[0m \u001b[0marray\u001b[0m \u001b[1;32min\u001b[0m \u001b[0margs\u001b[0m\u001b[1;33m)\u001b[0m\u001b[1;33m:\u001b[0m\u001b[1;33m\u001b[0m\u001b[1;33m\u001b[0m\u001b[0m\n",
      "\u001b[1;32mc:\\users\\vinic\\appdata\\local\\programs\\python\\python38-32\\lib\\site-packages\\numpy\\lib\\stride_tricks.py\u001b[0m in \u001b[0;36m_broadcast_shape\u001b[1;34m(*args)\u001b[0m\n\u001b[0;32m    187\u001b[0m     \u001b[1;31m# use the old-iterator because np.nditer does not handle size 0 arrays\u001b[0m\u001b[1;33m\u001b[0m\u001b[1;33m\u001b[0m\u001b[1;33m\u001b[0m\u001b[0m\n\u001b[0;32m    188\u001b[0m     \u001b[1;31m# consistently\u001b[0m\u001b[1;33m\u001b[0m\u001b[1;33m\u001b[0m\u001b[1;33m\u001b[0m\u001b[0m\n\u001b[1;32m--> 189\u001b[1;33m     \u001b[0mb\u001b[0m \u001b[1;33m=\u001b[0m \u001b[0mnp\u001b[0m\u001b[1;33m.\u001b[0m\u001b[0mbroadcast\u001b[0m\u001b[1;33m(\u001b[0m\u001b[1;33m*\u001b[0m\u001b[0margs\u001b[0m\u001b[1;33m[\u001b[0m\u001b[1;33m:\u001b[0m\u001b[1;36m32\u001b[0m\u001b[1;33m]\u001b[0m\u001b[1;33m)\u001b[0m\u001b[1;33m\u001b[0m\u001b[1;33m\u001b[0m\u001b[0m\n\u001b[0m\u001b[0;32m    190\u001b[0m     \u001b[1;31m# unfortunately, it cannot handle 32 or more arguments directly\u001b[0m\u001b[1;33m\u001b[0m\u001b[1;33m\u001b[0m\u001b[1;33m\u001b[0m\u001b[0m\n\u001b[0;32m    191\u001b[0m     \u001b[1;32mfor\u001b[0m \u001b[0mpos\u001b[0m \u001b[1;32min\u001b[0m \u001b[0mrange\u001b[0m\u001b[1;33m(\u001b[0m\u001b[1;36m32\u001b[0m\u001b[1;33m,\u001b[0m \u001b[0mlen\u001b[0m\u001b[1;33m(\u001b[0m\u001b[0margs\u001b[0m\u001b[1;33m)\u001b[0m\u001b[1;33m,\u001b[0m \u001b[1;36m31\u001b[0m\u001b[1;33m)\u001b[0m\u001b[1;33m:\u001b[0m\u001b[1;33m\u001b[0m\u001b[1;33m\u001b[0m\u001b[0m\n",
      "\u001b[1;31mValueError\u001b[0m: shape mismatch: objects cannot be broadcast to a single shape"
     ]
    },
    {
     "data": {
      "image/png": "[encoded data removed]",
      "text/plain": [
       "<Figure size 576x396 with 1 Axes>"
      ]
     },
     "metadata": {},
     "output_type": "display_data"
    }
   ],
   "source": [
    "plt.bar(x[x > 0], y[y > 0], color='green')\n",
    "plt.bar(x[x < 0], y[y < 0], color='red')"
   ]
  },
  {
   "cell_type": "markdown",
   "metadata": {},
   "source": [
    "## Horizontal"
   ]
  },
  {
   "cell_type": "code",
   "execution_count": 97,
   "metadata": {
    "ExecuteTime": {
     "end_time": "2021-01-14T23:37:01.829422Z",
     "start_time": "2021-01-14T23:37:01.630375Z"
    }
   },
   "outputs": [
    {
     "data": {
      "text/plain": [
       "<BarContainer object of 11 artists>"
      ]
     },
     "execution_count": 97,
     "metadata": {},
     "output_type": "execute_result"
    },
    {
     "data": {
      "image/png": "[encoded data removed]",
      "text/plain": [
       "<Figure size 576x396 with 1 Axes>"
      ]
     },
     "metadata": {},
     "output_type": "display_data"
    }
   ],
   "source": [
    "#plt.barh(le_brazil['Year'] - 0.2, le_brazil['Life Expectancy'], width=0.35, label='Brazil')\n",
    "plt.barh(le_eua['Year'], le_eua['Life Expectancy'], label='USA')"
   ]
  },
  {
   "cell_type": "code",
   "execution_count": 114,
   "metadata": {
    "ExecuteTime": {
     "end_time": "2021-01-14T23:47:04.748598Z",
     "start_time": "2021-01-14T23:47:04.531013Z"
    }
   },
   "outputs": [
    {
     "data": {
      "text/plain": [
       "<BarContainer object of 11 artists>"
      ]
     },
     "execution_count": 114,
     "metadata": {},
     "output_type": "execute_result"
    },
    {
     "data": {
      "image/png": "[encoded data removed]",
      "text/plain": [
       "<Figure size 576x396 with 1 Axes>"
      ]
     },
     "metadata": {},
     "output_type": "display_data"
    }
   ],
   "source": [
    "plt.barh(le_brazil['Year'] - 0.2, le_brazil['Life Expectancy'], height=0.35, label='Brazil', color='red')\n",
    "plt.barh(le_eua['Year'] + 0.2, le_eua['Life Expectancy'], height=0.35, label='USA', color='green')"
   ]
  },
  {
   "cell_type": "markdown",
   "metadata": {},
   "source": [
    "## Gráfico de dispersão"
   ]
  },
  {
   "cell_type": "code",
   "execution_count": 100,
   "metadata": {
    "ExecuteTime": {
     "end_time": "2021-01-14T23:39:45.034590Z",
     "start_time": "2021-01-14T23:39:45.029895Z"
    }
   },
   "outputs": [],
   "source": [
    "x = np.arange(0, 5, 0.1)\n",
    "y = np.random.randn(len(x))"
   ]
  },
  {
   "cell_type": "code",
   "execution_count": 103,
   "metadata": {
    "ExecuteTime": {
     "end_time": "2021-01-14T23:39:58.414361Z",
     "start_time": "2021-01-14T23:39:58.407359Z"
    }
   },
   "outputs": [
    {
     "data": {
      "text/plain": [
       "array([-0.80662436,  0.55845434, -1.57181238,  0.50198867,  0.27518533,\n",
       "        0.41436653, -0.18673592, -1.94907512, -1.34644556, -1.0629898 ,\n",
       "        2.55893568, -0.51824073,  0.31706559, -0.49740875,  1.14735682,\n",
       "        1.44190335,  1.30761804, -0.33267746, -0.13804217, -0.72711751,\n",
       "       -0.083092  , -0.37160087,  1.25223524,  0.2532321 , -0.02829518,\n",
       "       -0.6844586 , -1.37919063, -1.72283395,  0.74761579,  2.44232605,\n",
       "        0.45437258, -2.25745696,  1.10168945, -0.90597821, -0.38770017,\n",
       "        2.36017712, -1.05323709, -0.59524418, -1.18810191,  0.29551118,\n",
       "       -0.68255371,  0.7507775 ,  0.85999567,  0.36919743, -0.34180538,\n",
       "        1.45409113,  0.60830954, -1.45538043, -0.49446421, -0.72111487])"
      ]
     },
     "execution_count": 103,
     "metadata": {},
     "output_type": "execute_result"
    }
   ],
   "source": [
    "y"
   ]
  },
  {
   "cell_type": "code",
   "execution_count": 105,
   "metadata": {
    "ExecuteTime": {
     "end_time": "2021-01-14T23:40:03.104336Z",
     "start_time": "2021-01-14T23:40:03.095336Z"
    }
   },
   "outputs": [
    {
     "data": {
      "text/plain": [
       "array([0. , 0.1, 0.2, 0.3, 0.4, 0.5, 0.6, 0.7, 0.8, 0.9, 1. , 1.1, 1.2,\n",
       "       1.3, 1.4, 1.5, 1.6, 1.7, 1.8, 1.9, 2. , 2.1, 2.2, 2.3, 2.4, 2.5,\n",
       "       2.6, 2.7, 2.8, 2.9, 3. , 3.1, 3.2, 3.3, 3.4, 3.5, 3.6, 3.7, 3.8,\n",
       "       3.9, 4. , 4.1, 4.2, 4.3, 4.4, 4.5, 4.6, 4.7, 4.8, 4.9])"
      ]
     },
     "execution_count": 105,
     "metadata": {},
     "output_type": "execute_result"
    }
   ],
   "source": [
    "x"
   ]
  },
  {
   "cell_type": "code",
   "execution_count": 115,
   "metadata": {
    "ExecuteTime": {
     "end_time": "2021-01-15T00:02:31.997511Z",
     "start_time": "2021-01-15T00:02:31.814943Z"
    }
   },
   "outputs": [
    {
     "data": {
      "text/plain": [
       "<matplotlib.collections.PathCollection at 0x13db3a00>"
      ]
     },
     "execution_count": 115,
     "metadata": {},
     "output_type": "execute_result"
    },
    {
     "data": {
      "image/png": "[encoded data removed]",
      "text/plain": [
       "<Figure size 576x396 with 1 Axes>"
      ]
     },
     "metadata": {},
     "output_type": "display_data"
    }
   ],
   "source": [
    "plt.scatter(x, y)"
   ]
  },
  {
   "cell_type": "markdown",
   "metadata": {},
   "source": [
    "## Gráfico de pizza"
   ]
  },
  {
   "cell_type": "code",
   "execution_count": 118,
   "metadata": {
    "ExecuteTime": {
     "end_time": "2021-01-15T00:04:56.528404Z",
     "start_time": "2021-01-15T00:04:56.519897Z"
    }
   },
   "outputs": [],
   "source": [
    "df = pd.read_csv('../data_sets/fish.csv')"
   ]
  },
  {
   "cell_type": "code",
   "execution_count": 122,
   "metadata": {
    "ExecuteTime": {
     "end_time": "2021-01-15T00:07:00.225808Z",
     "start_time": "2021-01-15T00:07:00.208807Z"
    }
   },
   "outputs": [
    {
     "data": {
      "text/html": [
       "<div>\n",
       "<style scoped>\n",
       "    .dataframe tbody tr th:only-of-type {\n",
       "        vertical-align: middle;\n",
       "    }\n",
       "\n",
       "    .dataframe tbody tr th {\n",
       "        vertical-align: top;\n",
       "    }\n",
       "\n",
       "    .dataframe thead th {\n",
       "        text-align: right;\n",
       "    }\n",
       "</style>\n",
       "<table border=\"1\" class=\"dataframe\">\n",
       "  <thead>\n",
       "    <tr style=\"text-align: right;\">\n",
       "      <th></th>\n",
       "      <th>Species</th>\n",
       "      <th>Weight</th>\n",
       "      <th>Length1</th>\n",
       "      <th>Length2</th>\n",
       "      <th>Length3</th>\n",
       "      <th>Height</th>\n",
       "      <th>Width</th>\n",
       "    </tr>\n",
       "  </thead>\n",
       "  <tbody>\n",
       "    <tr>\n",
       "      <th>0</th>\n",
       "      <td>Bream</td>\n",
       "      <td>242.0</td>\n",
       "      <td>23.2</td>\n",
       "      <td>25.4</td>\n",
       "      <td>30.0</td>\n",
       "      <td>11.5200</td>\n",
       "      <td>4.0200</td>\n",
       "    </tr>\n",
       "    <tr>\n",
       "      <th>1</th>\n",
       "      <td>Bream</td>\n",
       "      <td>290.0</td>\n",
       "      <td>24.0</td>\n",
       "      <td>26.3</td>\n",
       "      <td>31.2</td>\n",
       "      <td>12.4800</td>\n",
       "      <td>4.3056</td>\n",
       "    </tr>\n",
       "    <tr>\n",
       "      <th>2</th>\n",
       "      <td>Bream</td>\n",
       "      <td>340.0</td>\n",
       "      <td>23.9</td>\n",
       "      <td>26.5</td>\n",
       "      <td>31.1</td>\n",
       "      <td>12.3778</td>\n",
       "      <td>4.6961</td>\n",
       "    </tr>\n",
       "    <tr>\n",
       "      <th>3</th>\n",
       "      <td>Bream</td>\n",
       "      <td>363.0</td>\n",
       "      <td>26.3</td>\n",
       "      <td>29.0</td>\n",
       "      <td>33.5</td>\n",
       "      <td>12.7300</td>\n",
       "      <td>4.4555</td>\n",
       "    </tr>\n",
       "    <tr>\n",
       "      <th>4</th>\n",
       "      <td>Bream</td>\n",
       "      <td>430.0</td>\n",
       "      <td>26.5</td>\n",
       "      <td>29.0</td>\n",
       "      <td>34.0</td>\n",
       "      <td>12.4440</td>\n",
       "      <td>5.1340</td>\n",
       "    </tr>\n",
       "  </tbody>\n",
       "</table>\n",
       "</div>"
      ],
      "text/plain": [
       "  Species  Weight  Length1  Length2  Length3   Height   Width\n",
       "0   Bream   242.0     23.2     25.4     30.0  11.5200  4.0200\n",
       "1   Bream   290.0     24.0     26.3     31.2  12.4800  4.3056\n",
       "2   Bream   340.0     23.9     26.5     31.1  12.3778  4.6961\n",
       "3   Bream   363.0     26.3     29.0     33.5  12.7300  4.4555\n",
       "4   Bream   430.0     26.5     29.0     34.0  12.4440  5.1340"
      ]
     },
     "execution_count": 122,
     "metadata": {},
     "output_type": "execute_result"
    }
   ],
   "source": [
    "df.head()"
   ]
  },
  {
   "cell_type": "code",
   "execution_count": 148,
   "metadata": {
    "ExecuteTime": {
     "end_time": "2021-01-15T00:21:55.295927Z",
     "start_time": "2021-01-15T00:21:55.136346Z"
    }
   },
   "outputs": [
    {
     "data": {
      "image/png": "[encoded data removed]",
      "text/plain": [
       "<Figure size 576x396 with 1 Axes>"
      ]
     },
     "metadata": {},
     "output_type": "display_data"
    }
   ],
   "source": [
    "especies = df['Species'].value_counts(normalize=True)\n",
    "plt.pie(especies, labels=especies.index, autopct='%.2f%%', pctdistance=0.6, labeldistance=1.1,\n",
    "        explode=[0.3, 0, 0, 0, 0, 0, 0])\n",
    "plt.show()"
   ]
  },
  {
   "cell_type": "code",
   "execution_count": null,
   "metadata": {},
   "outputs": [],
   "source": []
  },
  {
   "cell_type": "markdown",
   "metadata": {},
   "source": [
    "## Histograma"
   ]
  },
  {
   "cell_type": "code",
   "execution_count": 153,
   "metadata": {
    "ExecuteTime": {
     "end_time": "2021-01-15T00:26:18.719562Z",
     "start_time": "2021-01-15T00:26:18.432731Z"
    }
   },
   "outputs": [
    {
     "data": {
      "text/plain": [
       "(array([1., 0., 0., 1., 0., 1., 0., 1., 1., 2., 0., 1., 2., 0., 1., 3., 2.,\n",
       "        1., 3., 4., 0., 1., 2., 1., 0., 0., 4., 2., 2., 2., 0., 2., 1., 0.,\n",
       "        1., 1., 1., 1., 2., 0., 0., 0., 0., 0., 0., 0., 0., 1., 1., 1.]),\n",
       " array([-2.25745696, -2.16112911, -2.06480126, -1.9684734 , -1.87214555,\n",
       "        -1.7758177 , -1.67948985, -1.58316199, -1.48683414, -1.39050629,\n",
       "        -1.29417843, -1.19785058, -1.10152273, -1.00519488, -0.90886702,\n",
       "        -0.81253917, -0.71621132, -0.61988346, -0.52355561, -0.42722776,\n",
       "        -0.3308999 , -0.23457205, -0.1382442 , -0.04191635,  0.05441151,\n",
       "         0.15073936,  0.24706721,  0.34339507,  0.43972292,  0.53605077,\n",
       "         0.63237862,  0.72870648,  0.82503433,  0.92136218,  1.01769004,\n",
       "         1.11401789,  1.21034574,  1.3066736 ,  1.40300145,  1.4993293 ,\n",
       "         1.59565715,  1.69198501,  1.78831286,  1.88464071,  1.98096857,\n",
       "         2.07729642,  2.17362427,  2.26995212,  2.36627998,  2.46260783,\n",
       "         2.55893568]),\n",
       " <BarContainer object of 50 artists>)"
      ]
     },
     "execution_count": 153,
     "metadata": {},
     "output_type": "execute_result"
    },
    {
     "data": {
      "image/png": "[encoded data removed]",
      "text/plain": [
       "<Figure size 720x720 with 1 Axes>"
      ]
     },
     "metadata": {},
     "output_type": "display_data"
    }
   ],
   "source": [
    "plt.figure(figsize=(10,10))\n",
    "plt.hist(y, bins=50) #bins -> quantidade de barras"
   ]
  },
  {
   "cell_type": "code",
   "execution_count": 157,
   "metadata": {
    "ExecuteTime": {
     "end_time": "2021-01-15T00:27:58.402657Z",
     "start_time": "2021-01-15T00:27:58.009318Z"
    }
   },
   "outputs": [
    {
     "data": {
      "image/png": "[encoded data removed]",
      "text/plain": [
       "<Figure size 576x396 with 1 Axes>"
      ]
     },
     "metadata": {},
     "output_type": "display_data"
    }
   ],
   "source": [
    "x = np.random.randn(10000)\n",
    "\n",
    "plt.hist(x, bins=100)\n",
    "plt.show()"
   ]
  },
  {
   "cell_type": "markdown",
   "metadata": {},
   "source": [
    "## Bônus: Gráficos 3D"
   ]
  },
  {
   "cell_type": "code",
   "execution_count": 161,
   "metadata": {
    "ExecuteTime": {
     "end_time": "2021-01-15T00:32:31.168161Z",
     "start_time": "2021-01-15T00:32:31.105018Z"
    }
   },
   "outputs": [
    {
     "data": {
      "application/javascript": [
       "/* Put everything inside the global mpl namespace */\n",
       "/* global mpl */\n",
       "window.mpl = {};\n",
       "\n",
       "mpl.get_websocket_type = function () {\n",
       "    if (typeof WebSocket !== 'undefined') {\n",
       "        return WebSocket;\n",
       "    } else if (typeof MozWebSocket !== 'undefined') {\n",
       "        return MozWebSocket;\n",
       "    } else {\n",
       "        alert(\n",
       "            'Your browser does not have WebSocket support. ' +\n",
       "                'Please try Chrome, Safari or Firefox ≥ 6. ' +\n",
       "                'Firefox 4 and 5 are also supported but you ' +\n",
       "                'have to enable WebSockets in about:config.'\n",
       "        );\n",
       "    }\n",
       "};\n",
       "\n",
       "mpl.figure = function (figure_id, websocket, ondownload, parent_element) {\n",
       "    this.id = figure_id;\n",
       "\n",
       "    this.ws = websocket;\n",
       "\n",
       "    this.supports_binary = this.ws.binaryType !== undefined;\n",
       "\n",
       "    if (!this.supports_binary) {\n",
       "        var warnings = document.getElementById('mpl-warnings');\n",
       "        if (warnings) {\n",
       "            warnings.style.display = 'block';\n",
       "            warnings.textContent =\n",
       "                'This browser does not support binary websocket messages. ' +\n",
       "                'Performance may be slow.';\n",
       "        }\n",
       "    }\n",
       "\n",
       "    this.imageObj = new Image();\n",
       "\n",
       "    this.context = undefined;\n",
       "    this.message = undefined;\n",
       "    this.canvas = undefined;\n",
       "    this.rubberband_canvas = undefined;\n",
       "    this.rubberband_context = undefined;\n",
       "    this.format_dropdown = undefined;\n",
       "\n",
       "    this.image_mode = 'full';\n",
       "\n",
       "    this.root = document.createElement('div');\n",
       "    this.root.setAttribute('style', 'display: inline-block');\n",
       "    this._root_extra_style(this.root);\n",
       "\n",
       "    parent_element.appendChild(this.root);\n",
       "\n",
       "    this._init_header(this);\n",
       "    this._init_canvas(this);\n",
       "    this._init_toolbar(this);\n",
       "\n",
       "    var fig = this;\n",
       "\n",
       "    this.waiting = false;\n",
       "\n",
       "    this.ws.onopen = function () {\n",
       "        fig.send_message('supports_binary', { value: fig.supports_binary });\n",
       "        fig.send_message('send_image_mode', {});\n",
       "        if (fig.ratio !== 1) {\n",
       "            fig.send_message('set_dpi_ratio', { dpi_ratio: fig.ratio });\n",
       "        }\n",
       "        fig.send_message('refresh', {});\n",
       "    };\n",
       "\n",
       "    this.imageObj.onload = function () {\n",
       "        if (fig.image_mode === 'full') {\n",
       "            // Full images could contain transparency (where diff images\n",
       "            // almost always do), so we need to clear the canvas so that\n",
       "            // there is no ghosting.\n",
       "            fig.context.clearRect(0, 0, fig.canvas.width, fig.canvas.height);\n",
       "        }\n",
       "        fig.context.drawImage(fig.imageObj, 0, 0);\n",
       "    };\n",
       "\n",
       "    this.imageObj.onunload = function () {\n",
       "        fig.ws.close();\n",
       "    };\n",
       "\n",
       "    this.ws.onmessage = this._make_on_message_function(this);\n",
       "\n",
       "    this.ondownload = ondownload;\n",
       "};\n",
       "\n",
       "mpl.figure.prototype._init_header = function () {\n",
       "    var titlebar = document.createElement('div');\n",
       "    titlebar.classList =\n",
       "        'ui-dialog-titlebar ui-widget-header ui-corner-all ui-helper-clearfix';\n",
       "    var titletext = document.createElement('div');\n",
       "    titletext.classList = 'ui-dialog-title';\n",
       "    titletext.setAttribute(\n",
       "        'style',\n",
       "        'width: 100%; text-align: center; padding: 3px;'\n",
       "    );\n",
       "    titlebar.appendChild(titletext);\n",
       "    this.root.appendChild(titlebar);\n",
       "    this.header = titletext;\n",
       "};\n",
       "\n",
       "mpl.figure.prototype._canvas_extra_style = function (_canvas_div) {};\n",
       "\n",
       "mpl.figure.prototype._root_extra_style = function (_canvas_div) {};\n",
       "\n",
       "mpl.figure.prototype._init_canvas = function () {\n",
       "    var fig = this;\n",
       "\n",
       "    var canvas_div = (this.canvas_div = document.createElement('div'));\n",
       "    canvas_div.setAttribute(\n",
       "        'style',\n",
       "        'border: 1px solid #ddd;' +\n",
       "            'box-sizing: content-box;' +\n",
       "            'clear: both;' +\n",
       "            'min-height: 1px;' +\n",
       "            'min-width: 1px;' +\n",
       "            'outline: 0;' +\n",
       "            'overflow: hidden;' +\n",
       "            'position: relative;' +\n",
       "            'resize: both;'\n",
       "    );\n",
       "\n",
       "    function on_keyboard_event_closure(name) {\n",
       "        return function (event) {\n",
       "            return fig.key_event(event, name);\n",
       "        };\n",
       "    }\n",
       "\n",
       "    canvas_div.addEventListener(\n",
       "        'keydown',\n",
       "        on_keyboard_event_closure('key_press')\n",
       "    );\n",
       "    canvas_div.addEventListener(\n",
       "        'keyup',\n",
       "        on_keyboard_event_closure('key_release')\n",
       "    );\n",
       "\n",
       "    this._canvas_extra_style(canvas_div);\n",
       "    this.root.appendChild(canvas_div);\n",
       "\n",
       "    var canvas = (this.canvas = document.createElement('canvas'));\n",
       "    canvas.classList.add('mpl-canvas');\n",
       "    canvas.setAttribute('style', 'box-sizing: content-box;');\n",
       "\n",
       "    this.context = canvas.getContext('2d');\n",
       "\n",
       "    var backingStore =\n",
       "        this.context.backingStorePixelRatio ||\n",
       "        this.context.webkitBackingStorePixelRatio ||\n",
       "        this.context.mozBackingStorePixelRatio ||\n",
       "        this.context.msBackingStorePixelRatio ||\n",
       "        this.context.oBackingStorePixelRatio ||\n",
       "        this.context.backingStorePixelRatio ||\n",
       "        1;\n",
       "\n",
       "    this.ratio = (window.devicePixelRatio || 1) / backingStore;\n",
       "    if (this.ratio !== 1) {\n",
       "        fig.send_message('set_dpi_ratio', { dpi_ratio: this.ratio });\n",
       "    }\n",
       "\n",
       "    var rubberband_canvas = (this.rubberband_canvas = document.createElement(\n",
       "        'canvas'\n",
       "    ));\n",
       "    rubberband_canvas.setAttribute(\n",
       "        'style',\n",
       "        'box-sizing: content-box; position: absolute; left: 0; top: 0; z-index: 1;'\n",
       "    );\n",
       "\n",
       "    var resizeObserver = new ResizeObserver(function (entries) {\n",
       "        var nentries = entries.length;\n",
       "        for (var i = 0; i < nentries; i++) {\n",
       "            var entry = entries[i];\n",
       "            var width, height;\n",
       "            if (entry.contentBoxSize) {\n",
       "                if (entry.contentBoxSize instanceof Array) {\n",
       "                    // Chrome 84 implements new version of spec.\n",
       "                    width = entry.contentBoxSize[0].inlineSize;\n",
       "                    height = entry.contentBoxSize[0].blockSize;\n",
       "                } else {\n",
       "                    // Firefox implements old version of spec.\n",
       "                    width = entry.contentBoxSize.inlineSize;\n",
       "                    height = entry.contentBoxSize.blockSize;\n",
       "                }\n",
       "            } else {\n",
       "                // Chrome <84 implements even older version of spec.\n",
       "                width = entry.contentRect.width;\n",
       "                height = entry.contentRect.height;\n",
       "            }\n",
       "\n",
       "            // Keep the size of the canvas and rubber band canvas in sync with\n",
       "            // the canvas container.\n",
       "            if (entry.devicePixelContentBoxSize) {\n",
       "                // Chrome 84 implements new version of spec.\n",
       "                canvas.setAttribute(\n",
       "                    'width',\n",
       "                    entry.devicePixelContentBoxSize[0].inlineSize\n",
       "                );\n",
       "                canvas.setAttribute(\n",
       "                    'height',\n",
       "                    entry.devicePixelContentBoxSize[0].blockSize\n",
       "                );\n",
       "            } else {\n",
       "                canvas.setAttribute('width', width * fig.ratio);\n",
       "                canvas.setAttribute('height', height * fig.ratio);\n",
       "            }\n",
       "            canvas.setAttribute(\n",
       "                'style',\n",
       "                'width: ' + width + 'px; height: ' + height + 'px;'\n",
       "            );\n",
       "\n",
       "            rubberband_canvas.setAttribute('width', width);\n",
       "            rubberband_canvas.setAttribute('height', height);\n",
       "\n",
       "            // And update the size in Python. We ignore the initial 0/0 size\n",
       "            // that occurs as the element is placed into the DOM, which should\n",
       "            // otherwise not happen due to the minimum size styling.\n",
       "            if (width != 0 && height != 0) {\n",
       "                fig.request_resize(width, height);\n",
       "            }\n",
       "        }\n",
       "    });\n",
       "    resizeObserver.observe(canvas_div);\n",
       "\n",
       "    function on_mouse_event_closure(name) {\n",
       "        return function (event) {\n",
       "            return fig.mouse_event(event, name);\n",
       "        };\n",
       "    }\n",
       "\n",
       "    rubberband_canvas.addEventListener(\n",
       "        'mousedown',\n",
       "        on_mouse_event_closure('button_press')\n",
       "    );\n",
       "    rubberband_canvas.addEventListener(\n",
       "        'mouseup',\n",
       "        on_mouse_event_closure('button_release')\n",
       "    );\n",
       "    // Throttle sequential mouse events to 1 every 20ms.\n",
       "    rubberband_canvas.addEventListener(\n",
       "        'mousemove',\n",
       "        on_mouse_event_closure('motion_notify')\n",
       "    );\n",
       "\n",
       "    rubberband_canvas.addEventListener(\n",
       "        'mouseenter',\n",
       "        on_mouse_event_closure('figure_enter')\n",
       "    );\n",
       "    rubberband_canvas.addEventListener(\n",
       "        'mouseleave',\n",
       "        on_mouse_event_closure('figure_leave')\n",
       "    );\n",
       "\n",
       "    canvas_div.addEventListener('wheel', function (event) {\n",
       "        if (event.deltaY < 0) {\n",
       "            event.step = 1;\n",
       "        } else {\n",
       "            event.step = -1;\n",
       "        }\n",
       "        on_mouse_event_closure('scroll')(event);\n",
       "    });\n",
       "\n",
       "    canvas_div.appendChild(canvas);\n",
       "    canvas_div.appendChild(rubberband_canvas);\n",
       "\n",
       "    this.rubberband_context = rubberband_canvas.getContext('2d');\n",
       "    this.rubberband_context.strokeStyle = '#000000';\n",
       "\n",
       "    this._resize_canvas = function (width, height, forward) {\n",
       "        if (forward) {\n",
       "            canvas_div.style.width = width + 'px';\n",
       "            canvas_div.style.height = height + 'px';\n",
       "        }\n",
       "    };\n",
       "\n",
       "    // Disable right mouse context menu.\n",
       "    this.rubberband_canvas.addEventListener('contextmenu', function (_e) {\n",
       "        event.preventDefault();\n",
       "        return false;\n",
       "    });\n",
       "\n",
       "    function set_focus() {\n",
       "        canvas.focus();\n",
       "        canvas_div.focus();\n",
       "    }\n",
       "\n",
       "    window.setTimeout(set_focus, 100);\n",
       "};\n",
       "\n",
       "mpl.figure.prototype._init_toolbar = function () {\n",
       "    var fig = this;\n",
       "\n",
       "    var toolbar = document.createElement('div');\n",
       "    toolbar.classList = 'mpl-toolbar';\n",
       "    this.root.appendChild(toolbar);\n",
       "\n",
       "    function on_click_closure(name) {\n",
       "        return function (_event) {\n",
       "            return fig.toolbar_button_onclick(name);\n",
       "        };\n",
       "    }\n",
       "\n",
       "    function on_mouseover_closure(tooltip) {\n",
       "        return function (event) {\n",
       "            if (!event.currentTarget.disabled) {\n",
       "                return fig.toolbar_button_onmouseover(tooltip);\n",
       "            }\n",
       "        };\n",
       "    }\n",
       "\n",
       "    fig.buttons = {};\n",
       "    var buttonGroup = document.createElement('div');\n",
       "    buttonGroup.classList = 'mpl-button-group';\n",
       "    for (var toolbar_ind in mpl.toolbar_items) {\n",
       "        var name = mpl.toolbar_items[toolbar_ind][0];\n",
       "        var tooltip = mpl.toolbar_items[toolbar_ind][1];\n",
       "        var image = mpl.toolbar_items[toolbar_ind][2];\n",
       "        var method_name = mpl.toolbar_items[toolbar_ind][3];\n",
       "\n",
       "        if (!name) {\n",
       "            /* Instead of a spacer, we start a new button group. */\n",
       "            if (buttonGroup.hasChildNodes()) {\n",
       "                toolbar.appendChild(buttonGroup);\n",
       "            }\n",
       "            buttonGroup = document.createElement('div');\n",
       "            buttonGroup.classList = 'mpl-button-group';\n",
       "            continue;\n",
       "        }\n",
       "\n",
       "        var button = (fig.buttons[name] = document.createElement('button'));\n",
       "        button.classList = 'mpl-widget';\n",
       "        button.setAttribute('role', 'button');\n",
       "        button.setAttribute('aria-disabled', 'false');\n",
       "        button.addEventListener('click', on_click_closure(method_name));\n",
       "        button.addEventListener('mouseover', on_mouseover_closure(tooltip));\n",
       "\n",
       "        var icon_img = document.createElement('img');\n",
       "        icon_img.src = '_images/' + image + '.png';\n",
       "        icon_img.srcset = '_images/' + image + '_large.png 2x';\n",
       "        icon_img.alt = tooltip;\n",
       "        button.appendChild(icon_img);\n",
       "\n",
       "        buttonGroup.appendChild(button);\n",
       "    }\n",
       "\n",
       "    if (buttonGroup.hasChildNodes()) {\n",
       "        toolbar.appendChild(buttonGroup);\n",
       "    }\n",
       "\n",
       "    var fmt_picker = document.createElement('select');\n",
       "    fmt_picker.classList = 'mpl-widget';\n",
       "    toolbar.appendChild(fmt_picker);\n",
       "    this.format_dropdown = fmt_picker;\n",
       "\n",
       "    for (var ind in mpl.extensions) {\n",
       "        var fmt = mpl.extensions[ind];\n",
       "        var option = document.createElement('option');\n",
       "        option.selected = fmt === mpl.default_extension;\n",
       "        option.innerHTML = fmt;\n",
       "        fmt_picker.appendChild(option);\n",
       "    }\n",
       "\n",
       "    var status_bar = document.createElement('span');\n",
       "    status_bar.classList = 'mpl-message';\n",
       "    toolbar.appendChild(status_bar);\n",
       "    this.message = status_bar;\n",
       "};\n",
       "\n",
       "mpl.figure.prototype.request_resize = function (x_pixels, y_pixels) {\n",
       "    // Request matplotlib to resize the figure. Matplotlib will then trigger a resize in the client,\n",
       "    // which will in turn request a refresh of the image.\n",
       "    this.send_message('resize', { width: x_pixels, height: y_pixels });\n",
       "};\n",
       "\n",
       "mpl.figure.prototype.send_message = function (type, properties) {\n",
       "    properties['type'] = type;\n",
       "    properties['figure_id'] = this.id;\n",
       "    this.ws.send(JSON.stringify(properties));\n",
       "};\n",
       "\n",
       "mpl.figure.prototype.send_draw_message = function () {\n",
       "    if (!this.waiting) {\n",
       "        this.waiting = true;\n",
       "        this.ws.send(JSON.stringify({ type: 'draw', figure_id: this.id }));\n",
       "    }\n",
       "};\n",
       "\n",
       "mpl.figure.prototype.handle_save = function (fig, _msg) {\n",
       "    var format_dropdown = fig.format_dropdown;\n",
       "    var format = format_dropdown.options[format_dropdown.selectedIndex].value;\n",
       "    fig.ondownload(fig, format);\n",
       "};\n",
       "\n",
       "mpl.figure.prototype.handle_resize = function (fig, msg) {\n",
       "    var size = msg['size'];\n",
       "    if (size[0] !== fig.canvas.width || size[1] !== fig.canvas.height) {\n",
       "        fig._resize_canvas(size[0], size[1], msg['forward']);\n",
       "        fig.send_message('refresh', {});\n",
       "    }\n",
       "};\n",
       "\n",
       "mpl.figure.prototype.handle_rubberband = function (fig, msg) {\n",
       "    var x0 = msg['x0'] / fig.ratio;\n",
       "    var y0 = (fig.canvas.height - msg['y0']) / fig.ratio;\n",
       "    var x1 = msg['x1'] / fig.ratio;\n",
       "    var y1 = (fig.canvas.height - msg['y1']) / fig.ratio;\n",
       "    x0 = Math.floor(x0) + 0.5;\n",
       "    y0 = Math.floor(y0) + 0.5;\n",
       "    x1 = Math.floor(x1) + 0.5;\n",
       "    y1 = Math.floor(y1) + 0.5;\n",
       "    var min_x = Math.min(x0, x1);\n",
       "    var min_y = Math.min(y0, y1);\n",
       "    var width = Math.abs(x1 - x0);\n",
       "    var height = Math.abs(y1 - y0);\n",
       "\n",
       "    fig.rubberband_context.clearRect(\n",
       "        0,\n",
       "        0,\n",
       "        fig.canvas.width / fig.ratio,\n",
       "        fig.canvas.height / fig.ratio\n",
       "    );\n",
       "\n",
       "    fig.rubberband_context.strokeRect(min_x, min_y, width, height);\n",
       "};\n",
       "\n",
       "mpl.figure.prototype.handle_figure_label = function (fig, msg) {\n",
       "    // Updates the figure title.\n",
       "    fig.header.textContent = msg['label'];\n",
       "};\n",
       "\n",
       "mpl.figure.prototype.handle_cursor = function (fig, msg) {\n",
       "    var cursor = msg['cursor'];\n",
       "    switch (cursor) {\n",
       "        case 0:\n",
       "            cursor = 'pointer';\n",
       "            break;\n",
       "        case 1:\n",
       "            cursor = 'default';\n",
       "            break;\n",
       "        case 2:\n",
       "            cursor = 'crosshair';\n",
       "            break;\n",
       "        case 3:\n",
       "            cursor = 'move';\n",
       "            break;\n",
       "    }\n",
       "    fig.rubberband_canvas.style.cursor = cursor;\n",
       "};\n",
       "\n",
       "mpl.figure.prototype.handle_message = function (fig, msg) {\n",
       "    fig.message.textContent = msg['message'];\n",
       "};\n",
       "\n",
       "mpl.figure.prototype.handle_draw = function (fig, _msg) {\n",
       "    // Request the server to send over a new figure.\n",
       "    fig.send_draw_message();\n",
       "};\n",
       "\n",
       "mpl.figure.prototype.handle_image_mode = function (fig, msg) {\n",
       "    fig.image_mode = msg['mode'];\n",
       "};\n",
       "\n",
       "mpl.figure.prototype.handle_history_buttons = function (fig, msg) {\n",
       "    for (var key in msg) {\n",
       "        if (!(key in fig.buttons)) {\n",
       "            continue;\n",
       "        }\n",
       "        fig.buttons[key].disabled = !msg[key];\n",
       "        fig.buttons[key].setAttribute('aria-disabled', !msg[key]);\n",
       "    }\n",
       "};\n",
       "\n",
       "mpl.figure.prototype.handle_navigate_mode = function (fig, msg) {\n",
       "    if (msg['mode'] === 'PAN') {\n",
       "        fig.buttons['Pan'].classList.add('active');\n",
       "        fig.buttons['Zoom'].classList.remove('active');\n",
       "    } else if (msg['mode'] === 'ZOOM') {\n",
       "        fig.buttons['Pan'].classList.remove('active');\n",
       "        fig.buttons['Zoom'].classList.add('active');\n",
       "    } else {\n",
       "        fig.buttons['Pan'].classList.remove('active');\n",
       "        fig.buttons['Zoom'].classList.remove('active');\n",
       "    }\n",
       "};\n",
       "\n",
       "mpl.figure.prototype.updated_canvas_event = function () {\n",
       "    // Called whenever the canvas gets updated.\n",
       "    this.send_message('ack', {});\n",
       "};\n",
       "\n",
       "// A function to construct a web socket function for onmessage handling.\n",
       "// Called in the figure constructor.\n",
       "mpl.figure.prototype._make_on_message_function = function (fig) {\n",
       "    return function socket_on_message(evt) {\n",
       "        if (evt.data instanceof Blob) {\n",
       "            /* FIXME: We get \"Resource interpreted as Image but\n",
       "             * transferred with MIME type text/plain:\" errors on\n",
       "             * Chrome.  But how to set the MIME type?  It doesn't seem\n",
       "             * to be part of the websocket stream */\n",
       "            evt.data.type = 'image/png';\n",
       "\n",
       "            /* Free the memory for the previous frames */\n",
       "            if (fig.imageObj.src) {\n",
       "                (window.URL || window.webkitURL).revokeObjectURL(\n",
       "                    fig.imageObj.src\n",
       "                );\n",
       "            }\n",
       "\n",
       "            fig.imageObj.src = (window.URL || window.webkitURL).createObjectURL(\n",
       "                evt.data\n",
       "            );\n",
       "            fig.updated_canvas_event();\n",
       "            fig.waiting = false;\n",
       "            return;\n",
       "        } else if (\n",
       "            typeof evt.data === 'string' &&\n",
       "            evt.data.slice(0, 21) === 'data:image/png;base64'\n",
       "        ) {\n",
       "            fig.imageObj.src = evt.data;\n",
       "            fig.updated_canvas_event();\n",
       "            fig.waiting = false;\n",
       "            return;\n",
       "        }\n",
       "\n",
       "        var msg = JSON.parse(evt.data);\n",
       "        var msg_type = msg['type'];\n",
       "\n",
       "        // Call the  \"handle_{type}\" callback, which takes\n",
       "        // the figure and JSON message as its only arguments.\n",
       "        try {\n",
       "            var callback = fig['handle_' + msg_type];\n",
       "        } catch (e) {\n",
       "            console.log(\n",
       "                \"No handler for the '\" + msg_type + \"' message type: \",\n",
       "                msg\n",
       "            );\n",
       "            return;\n",
       "        }\n",
       "\n",
       "        if (callback) {\n",
       "            try {\n",
       "                // console.log(\"Handling '\" + msg_type + \"' message: \", msg);\n",
       "                callback(fig, msg);\n",
       "            } catch (e) {\n",
       "                console.log(\n",
       "                    \"Exception inside the 'handler_\" + msg_type + \"' callback:\",\n",
       "                    e,\n",
       "                    e.stack,\n",
       "                    msg\n",
       "                );\n",
       "            }\n",
       "        }\n",
       "    };\n",
       "};\n",
       "\n",
       "// from http://stackoverflow.com/questions/1114465/getting-mouse-location-in-canvas\n",
       "mpl.findpos = function (e) {\n",
       "    //this section is from http://www.quirksmode.org/js/events_properties.html\n",
       "    var targ;\n",
       "    if (!e) {\n",
       "        e = window.event;\n",
       "    }\n",
       "    if (e.target) {\n",
       "        targ = e.target;\n",
       "    } else if (e.srcElement) {\n",
       "        targ = e.srcElement;\n",
       "    }\n",
       "    if (targ.nodeType === 3) {\n",
       "        // defeat Safari bug\n",
       "        targ = targ.parentNode;\n",
       "    }\n",
       "\n",
       "    // pageX,Y are the mouse positions relative to the document\n",
       "    var boundingRect = targ.getBoundingClientRect();\n",
       "    var x = e.pageX - (boundingRect.left + document.body.scrollLeft);\n",
       "    var y = e.pageY - (boundingRect.top + document.body.scrollTop);\n",
       "\n",
       "    return { x: x, y: y };\n",
       "};\n",
       "\n",
       "/*\n",
       " * return a copy of an object with only non-object keys\n",
       " * we need this to avoid circular references\n",
       " * http://stackoverflow.com/a/24161582/3208463\n",
       " */\n",
       "function simpleKeys(original) {\n",
       "    return Object.keys(original).reduce(function (obj, key) {\n",
       "        if (typeof original[key] !== 'object') {\n",
       "            obj[key] = original[key];\n",
       "        }\n",
       "        return obj;\n",
       "    }, {});\n",
       "}\n",
       "\n",
       "mpl.figure.prototype.mouse_event = function (event, name) {\n",
       "    var canvas_pos = mpl.findpos(event);\n",
       "\n",
       "    if (name === 'button_press') {\n",
       "        this.canvas.focus();\n",
       "        this.canvas_div.focus();\n",
       "    }\n",
       "\n",
       "    var x = canvas_pos.x * this.ratio;\n",
       "    var y = canvas_pos.y * this.ratio;\n",
       "\n",
       "    this.send_message(name, {\n",
       "        x: x,\n",
       "        y: y,\n",
       "        button: event.button,\n",
       "        step: event.step,\n",
       "        guiEvent: simpleKeys(event),\n",
       "    });\n",
       "\n",
       "    /* This prevents the web browser from automatically changing to\n",
       "     * the text insertion cursor when the button is pressed.  We want\n",
       "     * to control all of the cursor setting manually through the\n",
       "     * 'cursor' event from matplotlib */\n",
       "    event.preventDefault();\n",
       "    return false;\n",
       "};\n",
       "\n",
       "mpl.figure.prototype._key_event_extra = function (_event, _name) {\n",
       "    // Handle any extra behaviour associated with a key event\n",
       "};\n",
       "\n",
       "mpl.figure.prototype.key_event = function (event, name) {\n",
       "    // Prevent repeat events\n",
       "    if (name === 'key_press') {\n",
       "        if (event.which === this._key) {\n",
       "            return;\n",
       "        } else {\n",
       "            this._key = event.which;\n",
       "        }\n",
       "    }\n",
       "    if (name === 'key_release') {\n",
       "        this._key = null;\n",
       "    }\n",
       "\n",
       "    var value = '';\n",
       "    if (event.ctrlKey && event.which !== 17) {\n",
       "        value += 'ctrl+';\n",
       "    }\n",
       "    if (event.altKey && event.which !== 18) {\n",
       "        value += 'alt+';\n",
       "    }\n",
       "    if (event.shiftKey && event.which !== 16) {\n",
       "        value += 'shift+';\n",
       "    }\n",
       "\n",
       "    value += 'k';\n",
       "    value += event.which.toString();\n",
       "\n",
       "    this._key_event_extra(event, name);\n",
       "\n",
       "    this.send_message(name, { key: value, guiEvent: simpleKeys(event) });\n",
       "    return false;\n",
       "};\n",
       "\n",
       "mpl.figure.prototype.toolbar_button_onclick = function (name) {\n",
       "    if (name === 'download') {\n",
       "        this.handle_save(this, null);\n",
       "    } else {\n",
       "        this.send_message('toolbar_button', { name: name });\n",
       "    }\n",
       "};\n",
       "\n",
       "mpl.figure.prototype.toolbar_button_onmouseover = function (tooltip) {\n",
       "    this.message.textContent = tooltip;\n",
       "};\n",
       "mpl.toolbar_items = [[\"Home\", \"Reset original view\", \"fa fa-home icon-home\", \"home\"], [\"Back\", \"Back to previous view\", \"fa fa-arrow-left icon-arrow-left\", \"back\"], [\"Forward\", \"Forward to next view\", \"fa fa-arrow-right icon-arrow-right\", \"forward\"], [\"\", \"\", \"\", \"\"], [\"Pan\", \"Left button pans, Right button zooms\\nx/y fixes axis, CTRL fixes aspect\", \"fa fa-arrows icon-move\", \"pan\"], [\"Zoom\", \"Zoom to rectangle\\nx/y fixes axis, CTRL fixes aspect\", \"fa fa-square-o icon-check-empty\", \"zoom\"], [\"\", \"\", \"\", \"\"], [\"Download\", \"Download plot\", \"fa fa-floppy-o icon-save\", \"download\"]];\n",
       "\n",
       "mpl.extensions = [\"eps\", \"jpeg\", \"pdf\", \"png\", \"ps\", \"raw\", \"svg\", \"tif\"];\n",
       "\n",
       "mpl.default_extension = \"png\";/* global mpl */\n",
       "\n",
       "var comm_websocket_adapter = function (comm) {\n",
       "    // Create a \"websocket\"-like object which calls the given IPython comm\n",
       "    // object with the appropriate methods. Currently this is a non binary\n",
       "    // socket, so there is still some room for performance tuning.\n",
       "    var ws = {};\n",
       "\n",
       "    ws.close = function () {\n",
       "        comm.close();\n",
       "    };\n",
       "    ws.send = function (m) {\n",
       "        //console.log('sending', m);\n",
       "        comm.send(m);\n",
       "    };\n",
       "    // Register the callback with on_msg.\n",
       "    comm.on_msg(function (msg) {\n",
       "        //console.log('receiving', msg['content']['data'], msg);\n",
       "        // Pass the mpl event to the overridden (by mpl) onmessage function.\n",
       "        ws.onmessage(msg['content']['data']);\n",
       "    });\n",
       "    return ws;\n",
       "};\n",
       "\n",
       "mpl.mpl_figure_comm = function (comm, msg) {\n",
       "    // This is the function which gets called when the mpl process\n",
       "    // starts-up an IPython Comm through the \"matplotlib\" channel.\n",
       "\n",
       "    var id = msg.content.data.id;\n",
       "    // Get hold of the div created by the display call when the Comm\n",
       "    // socket was opened in Python.\n",
       "    var element = document.getElementById(id);\n",
       "    var ws_proxy = comm_websocket_adapter(comm);\n",
       "\n",
       "    function ondownload(figure, _format) {\n",
       "        window.open(figure.canvas.toDataURL());\n",
       "    }\n",
       "\n",
       "    var fig = new mpl.figure(id, ws_proxy, ondownload, element);\n",
       "\n",
       "    // Call onopen now - mpl needs it, as it is assuming we've passed it a real\n",
       "    // web socket which is closed, not our websocket->open comm proxy.\n",
       "    ws_proxy.onopen();\n",
       "\n",
       "    fig.parent_element = element;\n",
       "    fig.cell_info = mpl.find_output_cell(\"<div id='\" + id + \"'></div>\");\n",
       "    if (!fig.cell_info) {\n",
       "        console.error('Failed to find cell for figure', id, fig);\n",
       "        return;\n",
       "    }\n",
       "    fig.cell_info[0].output_area.element.one(\n",
       "        'cleared',\n",
       "        { fig: fig },\n",
       "        fig._remove_fig_handler\n",
       "    );\n",
       "};\n",
       "\n",
       "mpl.figure.prototype.handle_close = function (fig, msg) {\n",
       "    var width = fig.canvas.width / fig.ratio;\n",
       "    fig.cell_info[0].output_area.element.off(\n",
       "        'cleared',\n",
       "        fig._remove_fig_handler\n",
       "    );\n",
       "\n",
       "    // Update the output cell to use the data from the current canvas.\n",
       "    fig.push_to_output();\n",
       "    var dataURL = fig.canvas.toDataURL();\n",
       "    // Re-enable the keyboard manager in IPython - without this line, in FF,\n",
       "    // the notebook keyboard shortcuts fail.\n",
       "    IPython.keyboard_manager.enable();\n",
       "    fig.parent_element.innerHTML =\n",
       "        '<img src=\"' + dataURL + '\" width=\"' + width + '\">';\n",
       "    fig.close_ws(fig, msg);\n",
       "};\n",
       "\n",
       "mpl.figure.prototype.close_ws = function (fig, msg) {\n",
       "    fig.send_message('closing', msg);\n",
       "    // fig.ws.close()\n",
       "};\n",
       "\n",
       "mpl.figure.prototype.push_to_output = function (_remove_interactive) {\n",
       "    // Turn the data on the canvas into data in the output cell.\n",
       "    var width = this.canvas.width / this.ratio;\n",
       "    var dataURL = this.canvas.toDataURL();\n",
       "    this.cell_info[1]['text/html'] =\n",
       "        '<img src=\"' + dataURL + '\" width=\"' + width + '\">';\n",
       "};\n",
       "\n",
       "mpl.figure.prototype.updated_canvas_event = function () {\n",
       "    // Tell IPython that the notebook contents must change.\n",
       "    IPython.notebook.set_dirty(true);\n",
       "    this.send_message('ack', {});\n",
       "    var fig = this;\n",
       "    // Wait a second, then push the new image to the DOM so\n",
       "    // that it is saved nicely (might be nice to debounce this).\n",
       "    setTimeout(function () {\n",
       "        fig.push_to_output();\n",
       "    }, 1000);\n",
       "};\n",
       "\n",
       "mpl.figure.prototype._init_toolbar = function () {\n",
       "    var fig = this;\n",
       "\n",
       "    var toolbar = document.createElement('div');\n",
       "    toolbar.classList = 'btn-toolbar';\n",
       "    this.root.appendChild(toolbar);\n",
       "\n",
       "    function on_click_closure(name) {\n",
       "        return function (_event) {\n",
       "            return fig.toolbar_button_onclick(name);\n",
       "        };\n",
       "    }\n",
       "\n",
       "    function on_mouseover_closure(tooltip) {\n",
       "        return function (event) {\n",
       "            if (!event.currentTarget.disabled) {\n",
       "                return fig.toolbar_button_onmouseover(tooltip);\n",
       "            }\n",
       "        };\n",
       "    }\n",
       "\n",
       "    fig.buttons = {};\n",
       "    var buttonGroup = document.createElement('div');\n",
       "    buttonGroup.classList = 'btn-group';\n",
       "    var button;\n",
       "    for (var toolbar_ind in mpl.toolbar_items) {\n",
       "        var name = mpl.toolbar_items[toolbar_ind][0];\n",
       "        var tooltip = mpl.toolbar_items[toolbar_ind][1];\n",
       "        var image = mpl.toolbar_items[toolbar_ind][2];\n",
       "        var method_name = mpl.toolbar_items[toolbar_ind][3];\n",
       "\n",
       "        if (!name) {\n",
       "            /* Instead of a spacer, we start a new button group. */\n",
       "            if (buttonGroup.hasChildNodes()) {\n",
       "                toolbar.appendChild(buttonGroup);\n",
       "            }\n",
       "            buttonGroup = document.createElement('div');\n",
       "            buttonGroup.classList = 'btn-group';\n",
       "            continue;\n",
       "        }\n",
       "\n",
       "        button = fig.buttons[name] = document.createElement('button');\n",
       "        button.classList = 'btn btn-default';\n",
       "        button.href = '#';\n",
       "        button.title = name;\n",
       "        button.innerHTML = '<i class=\"fa ' + image + ' fa-lg\"></i>';\n",
       "        button.addEventListener('click', on_click_closure(method_name));\n",
       "        button.addEventListener('mouseover', on_mouseover_closure(tooltip));\n",
       "        buttonGroup.appendChild(button);\n",
       "    }\n",
       "\n",
       "    if (buttonGroup.hasChildNodes()) {\n",
       "        toolbar.appendChild(buttonGroup);\n",
       "    }\n",
       "\n",
       "    // Add the status bar.\n",
       "    var status_bar = document.createElement('span');\n",
       "    status_bar.classList = 'mpl-message pull-right';\n",
       "    toolbar.appendChild(status_bar);\n",
       "    this.message = status_bar;\n",
       "\n",
       "    // Add the close button to the window.\n",
       "    var buttongrp = document.createElement('div');\n",
       "    buttongrp.classList = 'btn-group inline pull-right';\n",
       "    button = document.createElement('button');\n",
       "    button.classList = 'btn btn-mini btn-primary';\n",
       "    button.href = '#';\n",
       "    button.title = 'Stop Interaction';\n",
       "    button.innerHTML = '<i class=\"fa fa-power-off icon-remove icon-large\"></i>';\n",
       "    button.addEventListener('click', function (_evt) {\n",
       "        fig.handle_close(fig, {});\n",
       "    });\n",
       "    button.addEventListener(\n",
       "        'mouseover',\n",
       "        on_mouseover_closure('Stop Interaction')\n",
       "    );\n",
       "    buttongrp.appendChild(button);\n",
       "    var titlebar = this.root.querySelector('.ui-dialog-titlebar');\n",
       "    titlebar.insertBefore(buttongrp, titlebar.firstChild);\n",
       "};\n",
       "\n",
       "mpl.figure.prototype._remove_fig_handler = function (event) {\n",
       "    var fig = event.data.fig;\n",
       "    fig.close_ws(fig, {});\n",
       "};\n",
       "\n",
       "mpl.figure.prototype._root_extra_style = function (el) {\n",
       "    el.style.boxSizing = 'content-box'; // override notebook setting of border-box.\n",
       "};\n",
       "\n",
       "mpl.figure.prototype._canvas_extra_style = function (el) {\n",
       "    // this is important to make the div 'focusable\n",
       "    el.setAttribute('tabindex', 0);\n",
       "    // reach out to IPython and tell the keyboard manager to turn it's self\n",
       "    // off when our div gets focus\n",
       "\n",
       "    // location in version 3\n",
       "    if (IPython.notebook.keyboard_manager) {\n",
       "        IPython.notebook.keyboard_manager.register_events(el);\n",
       "    } else {\n",
       "        // location in version 2\n",
       "        IPython.keyboard_manager.register_events(el);\n",
       "    }\n",
       "};\n",
       "\n",
       "mpl.figure.prototype._key_event_extra = function (event, _name) {\n",
       "    var manager = IPython.notebook.keyboard_manager;\n",
       "    if (!manager) {\n",
       "        manager = IPython.keyboard_manager;\n",
       "    }\n",
       "\n",
       "    // Check for shift+enter\n",
       "    if (event.shiftKey && event.which === 13) {\n",
       "        this.canvas_div.blur();\n",
       "        // select the cell after this one\n",
       "        var index = IPython.notebook.find_cell_index(this.cell_info[0]);\n",
       "        IPython.notebook.select(index + 1);\n",
       "    }\n",
       "};\n",
       "\n",
       "mpl.figure.prototype.handle_save = function (fig, _msg) {\n",
       "    fig.ondownload(fig, null);\n",
       "};\n",
       "\n",
       "mpl.find_output_cell = function (html_output) {\n",
       "    // Return the cell and output element which can be found *uniquely* in the notebook.\n",
       "    // Note - this is a bit hacky, but it is done because the \"notebook_saving.Notebook\"\n",
       "    // IPython event is triggered only after the cells have been serialised, which for\n",
       "    // our purposes (turning an active figure into a static one), is too late.\n",
       "    var cells = IPython.notebook.get_cells();\n",
       "    var ncells = cells.length;\n",
       "    for (var i = 0; i < ncells; i++) {\n",
       "        var cell = cells[i];\n",
       "        if (cell.cell_type === 'code') {\n",
       "            for (var j = 0; j < cell.output_area.outputs.length; j++) {\n",
       "                var data = cell.output_area.outputs[j];\n",
       "                if (data.data) {\n",
       "                    // IPython >= 3 moved mimebundle to data attribute of output\n",
       "                    data = data.data;\n",
       "                }\n",
       "                if (data['text/html'] === html_output) {\n",
       "                    return [cell, data, j];\n",
       "                }\n",
       "            }\n",
       "        }\n",
       "    }\n",
       "};\n",
       "\n",
       "// Register the function which deals with the matplotlib target/channel.\n",
       "// The kernel may be null if the page has been refreshed.\n",
       "if (IPython.notebook.kernel !== null) {\n",
       "    IPython.notebook.kernel.comm_manager.register_target(\n",
       "        'matplotlib',\n",
       "        mpl.mpl_figure_comm\n",
       "    );\n",
       "}\n"
      ],
      "text/plain": [
       "<IPython.core.display.Javascript object>"
      ]
     },
     "metadata": {},
     "output_type": "display_data"
    },
    {
     "data": {
      "text/html": [
       "<img src=\"data:image/png;base64,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\" width=\"432\">"
      ],
      "text/plain": [
       "<IPython.core.display.HTML object>"
      ]
     },
     "metadata": {},
     "output_type": "display_data"
    }
   ],
   "source": [
    "%matplotlib notebook\n",
    "from mpl_toolkits.mplot3d import axes3d\n",
    "import matplotlib.pyplot as plt\n",
    "\n",
    "fig = plt.figure()\n",
    "ax = fig.add_subplot(111, projection='3d')\n",
    "\n",
    "# Grab some test data.\n",
    "X, Y, Z = axes3d.get_test_data(0.05)\n",
    "\n",
    "# Plot a basic wireframe.\n",
    "ax.plot_wireframe(X, Y, Z, rstride=10, cstride=10)\n",
    "\n",
    "plt.show()\n"
   ]
  }
 ],
 "metadata": {
  "kernelspec": {
   "display_name": "Python 3",
   "language": "python",
   "name": "python3"
  },
  "language_info": {
   "codemirror_mode": {
    "name": "ipython",
    "version": 3
   },
   "file_extension": ".py",
   "mimetype": "text/x-python",
   "name": "python",
   "nbconvert_exporter": "python",
   "pygments_lexer": "ipython3",
   "version": "3.8.5"
  }
 },
 "nbformat": 4,
 "nbformat_minor": 4
}
